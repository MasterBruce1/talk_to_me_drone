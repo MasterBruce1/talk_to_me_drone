{
 "cells": [
  {
   "cell_type": "code",
   "execution_count": 1,
   "id": "81353a94-d7b4-4b75-9964-83331f169656",
   "metadata": {},
   "outputs": [
    {
     "name": "stdout",
     "output_type": "stream",
     "text": [
      "2.17.0\n",
      "3.4.1\n"
     ]
    }
   ],
   "source": [
    "import tensorflow as tf\n",
    "print(tf.__version__)  \n",
    "import keras\n",
    "print(keras.__version__)  "
   ]
  },
  {
   "cell_type": "code",
   "execution_count": 2,
   "id": "89f8e00d-d3f9-4415-a56a-231e2513a006",
   "metadata": {},
   "outputs": [],
   "source": [
    "import tensorflow as tf\n",
    "import numpy as np\n",
    "import os"
   ]
  },
  {
   "cell_type": "code",
   "execution_count": 3,
   "id": "58939118-1ebe-41ad-a63d-5894aef5c86d",
   "metadata": {},
   "outputs": [],
   "source": [
    "from tensorflow.keras.models import Sequential\n",
    "from tensorflow.keras.layers import Dense, InputLayer, Dropout, Conv1D, Flatten, MaxPooling1D, Reshape\n",
    "from tensorflow.keras.optimizers.legacy import Adam"
   ]
  },
  {
   "cell_type": "code",
   "execution_count": 4,
   "id": "bbb37830-1f85-44d5-902f-c2fde96b972b",
   "metadata": {},
   "outputs": [],
   "source": [
    "#model 2"
   ]
  },
  {
   "cell_type": "code",
   "execution_count": 5,
   "id": "9508e87a-694e-4792-9ef2-1a3c8e693b44",
   "metadata": {},
   "outputs": [],
   "source": [
    "classes = 3"
   ]
  },
  {
   "cell_type": "code",
   "execution_count": 6,
   "id": "8bd6786f-6c70-4e63-8f0d-748fd85925cb",
   "metadata": {},
   "outputs": [
    {
     "name": "stderr",
     "output_type": "stream",
     "text": [
      "D:\\apps\\anaconda\\anaconda\\envs\\812_tf_env\\lib\\site-packages\\keras\\src\\layers\\reshaping\\reshape.py:39: UserWarning: Do not pass an `input_shape`/`input_dim` argument to a layer. When using Sequential models, prefer using an `Input(shape)` object as the first layer in the model instead.\n",
      "  super().__init__(**kwargs)\n"
     ]
    }
   ],
   "source": [
    "model2 = Sequential()\n",
    "model2.add(Reshape((int(255 / 15), 15), input_shape=(255, )))\n",
    "model2.add(Conv1D(8, kernel_size=3, padding='same', activation='relu'))\n",
    "model2.add(MaxPooling1D(pool_size=2, strides=2, padding='same'))\n",
    "model2.add(Dropout(0.25))\n",
    "model2.add(Conv1D(16, kernel_size=3, padding='same', activation='relu'))\n",
    "model2.add(MaxPooling1D(pool_size=2, strides=2, padding='same'))\n",
    "model2.add(Dropout(0.25))\n",
    "model2.add(Flatten())\n",
    "model2.add(Dense(classes, name='y_pred', activation='softmax'))"
   ]
  },
  {
   "cell_type": "code",
   "execution_count": 7,
   "id": "5dd8eaf1-90e0-4225-b33a-cc9ef4b1f179",
   "metadata": {},
   "outputs": [
    {
     "data": {
      "text/html": [
       "<pre style=\"white-space:pre;overflow-x:auto;line-height:normal;font-family:Menlo,'DejaVu Sans Mono',consolas,'Courier New',monospace\"><span style=\"font-weight: bold\">Model: \"sequential\"</span>\n",
       "</pre>\n"
      ],
      "text/plain": [
       "\u001b[1mModel: \"sequential\"\u001b[0m\n"
      ]
     },
     "metadata": {},
     "output_type": "display_data"
    },
    {
     "data": {
      "text/html": [
       "<pre style=\"white-space:pre;overflow-x:auto;line-height:normal;font-family:Menlo,'DejaVu Sans Mono',consolas,'Courier New',monospace\">┏━━━━━━━━━━━━━━━━━━━━━━━━━━━━━━━━━━━━━━┳━━━━━━━━━━━━━━━━━━━━━━━━━━━━━┳━━━━━━━━━━━━━━━━━┓\n",
       "┃<span style=\"font-weight: bold\"> Layer (type)                         </span>┃<span style=\"font-weight: bold\"> Output Shape                </span>┃<span style=\"font-weight: bold\">         Param # </span>┃\n",
       "┡━━━━━━━━━━━━━━━━━━━━━━━━━━━━━━━━━━━━━━╇━━━━━━━━━━━━━━━━━━━━━━━━━━━━━╇━━━━━━━━━━━━━━━━━┩\n",
       "│ reshape (<span style=\"color: #0087ff; text-decoration-color: #0087ff\">Reshape</span>)                    │ (<span style=\"color: #00d7ff; text-decoration-color: #00d7ff\">None</span>, <span style=\"color: #00af00; text-decoration-color: #00af00\">17</span>, <span style=\"color: #00af00; text-decoration-color: #00af00\">15</span>)              │               <span style=\"color: #00af00; text-decoration-color: #00af00\">0</span> │\n",
       "├──────────────────────────────────────┼─────────────────────────────┼─────────────────┤\n",
       "│ conv1d (<span style=\"color: #0087ff; text-decoration-color: #0087ff\">Conv1D</span>)                      │ (<span style=\"color: #00d7ff; text-decoration-color: #00d7ff\">None</span>, <span style=\"color: #00af00; text-decoration-color: #00af00\">17</span>, <span style=\"color: #00af00; text-decoration-color: #00af00\">8</span>)               │             <span style=\"color: #00af00; text-decoration-color: #00af00\">368</span> │\n",
       "├──────────────────────────────────────┼─────────────────────────────┼─────────────────┤\n",
       "│ max_pooling1d (<span style=\"color: #0087ff; text-decoration-color: #0087ff\">MaxPooling1D</span>)         │ (<span style=\"color: #00d7ff; text-decoration-color: #00d7ff\">None</span>, <span style=\"color: #00af00; text-decoration-color: #00af00\">9</span>, <span style=\"color: #00af00; text-decoration-color: #00af00\">8</span>)                │               <span style=\"color: #00af00; text-decoration-color: #00af00\">0</span> │\n",
       "├──────────────────────────────────────┼─────────────────────────────┼─────────────────┤\n",
       "│ dropout (<span style=\"color: #0087ff; text-decoration-color: #0087ff\">Dropout</span>)                    │ (<span style=\"color: #00d7ff; text-decoration-color: #00d7ff\">None</span>, <span style=\"color: #00af00; text-decoration-color: #00af00\">9</span>, <span style=\"color: #00af00; text-decoration-color: #00af00\">8</span>)                │               <span style=\"color: #00af00; text-decoration-color: #00af00\">0</span> │\n",
       "├──────────────────────────────────────┼─────────────────────────────┼─────────────────┤\n",
       "│ conv1d_1 (<span style=\"color: #0087ff; text-decoration-color: #0087ff\">Conv1D</span>)                    │ (<span style=\"color: #00d7ff; text-decoration-color: #00d7ff\">None</span>, <span style=\"color: #00af00; text-decoration-color: #00af00\">9</span>, <span style=\"color: #00af00; text-decoration-color: #00af00\">16</span>)               │             <span style=\"color: #00af00; text-decoration-color: #00af00\">400</span> │\n",
       "├──────────────────────────────────────┼─────────────────────────────┼─────────────────┤\n",
       "│ max_pooling1d_1 (<span style=\"color: #0087ff; text-decoration-color: #0087ff\">MaxPooling1D</span>)       │ (<span style=\"color: #00d7ff; text-decoration-color: #00d7ff\">None</span>, <span style=\"color: #00af00; text-decoration-color: #00af00\">5</span>, <span style=\"color: #00af00; text-decoration-color: #00af00\">16</span>)               │               <span style=\"color: #00af00; text-decoration-color: #00af00\">0</span> │\n",
       "├──────────────────────────────────────┼─────────────────────────────┼─────────────────┤\n",
       "│ dropout_1 (<span style=\"color: #0087ff; text-decoration-color: #0087ff\">Dropout</span>)                  │ (<span style=\"color: #00d7ff; text-decoration-color: #00d7ff\">None</span>, <span style=\"color: #00af00; text-decoration-color: #00af00\">5</span>, <span style=\"color: #00af00; text-decoration-color: #00af00\">16</span>)               │               <span style=\"color: #00af00; text-decoration-color: #00af00\">0</span> │\n",
       "├──────────────────────────────────────┼─────────────────────────────┼─────────────────┤\n",
       "│ flatten (<span style=\"color: #0087ff; text-decoration-color: #0087ff\">Flatten</span>)                    │ (<span style=\"color: #00d7ff; text-decoration-color: #00d7ff\">None</span>, <span style=\"color: #00af00; text-decoration-color: #00af00\">80</span>)                  │               <span style=\"color: #00af00; text-decoration-color: #00af00\">0</span> │\n",
       "├──────────────────────────────────────┼─────────────────────────────┼─────────────────┤\n",
       "│ y_pred (<span style=\"color: #0087ff; text-decoration-color: #0087ff\">Dense</span>)                       │ (<span style=\"color: #00d7ff; text-decoration-color: #00d7ff\">None</span>, <span style=\"color: #00af00; text-decoration-color: #00af00\">3</span>)                   │             <span style=\"color: #00af00; text-decoration-color: #00af00\">243</span> │\n",
       "└──────────────────────────────────────┴─────────────────────────────┴─────────────────┘\n",
       "</pre>\n"
      ],
      "text/plain": [
       "┏━━━━━━━━━━━━━━━━━━━━━━━━━━━━━━━━━━━━━━┳━━━━━━━━━━━━━━━━━━━━━━━━━━━━━┳━━━━━━━━━━━━━━━━━┓\n",
       "┃\u001b[1m \u001b[0m\u001b[1mLayer (type)                        \u001b[0m\u001b[1m \u001b[0m┃\u001b[1m \u001b[0m\u001b[1mOutput Shape               \u001b[0m\u001b[1m \u001b[0m┃\u001b[1m \u001b[0m\u001b[1m        Param #\u001b[0m\u001b[1m \u001b[0m┃\n",
       "┡━━━━━━━━━━━━━━━━━━━━━━━━━━━━━━━━━━━━━━╇━━━━━━━━━━━━━━━━━━━━━━━━━━━━━╇━━━━━━━━━━━━━━━━━┩\n",
       "│ reshape (\u001b[38;5;33mReshape\u001b[0m)                    │ (\u001b[38;5;45mNone\u001b[0m, \u001b[38;5;34m17\u001b[0m, \u001b[38;5;34m15\u001b[0m)              │               \u001b[38;5;34m0\u001b[0m │\n",
       "├──────────────────────────────────────┼─────────────────────────────┼─────────────────┤\n",
       "│ conv1d (\u001b[38;5;33mConv1D\u001b[0m)                      │ (\u001b[38;5;45mNone\u001b[0m, \u001b[38;5;34m17\u001b[0m, \u001b[38;5;34m8\u001b[0m)               │             \u001b[38;5;34m368\u001b[0m │\n",
       "├──────────────────────────────────────┼─────────────────────────────┼─────────────────┤\n",
       "│ max_pooling1d (\u001b[38;5;33mMaxPooling1D\u001b[0m)         │ (\u001b[38;5;45mNone\u001b[0m, \u001b[38;5;34m9\u001b[0m, \u001b[38;5;34m8\u001b[0m)                │               \u001b[38;5;34m0\u001b[0m │\n",
       "├──────────────────────────────────────┼─────────────────────────────┼─────────────────┤\n",
       "│ dropout (\u001b[38;5;33mDropout\u001b[0m)                    │ (\u001b[38;5;45mNone\u001b[0m, \u001b[38;5;34m9\u001b[0m, \u001b[38;5;34m8\u001b[0m)                │               \u001b[38;5;34m0\u001b[0m │\n",
       "├──────────────────────────────────────┼─────────────────────────────┼─────────────────┤\n",
       "│ conv1d_1 (\u001b[38;5;33mConv1D\u001b[0m)                    │ (\u001b[38;5;45mNone\u001b[0m, \u001b[38;5;34m9\u001b[0m, \u001b[38;5;34m16\u001b[0m)               │             \u001b[38;5;34m400\u001b[0m │\n",
       "├──────────────────────────────────────┼─────────────────────────────┼─────────────────┤\n",
       "│ max_pooling1d_1 (\u001b[38;5;33mMaxPooling1D\u001b[0m)       │ (\u001b[38;5;45mNone\u001b[0m, \u001b[38;5;34m5\u001b[0m, \u001b[38;5;34m16\u001b[0m)               │               \u001b[38;5;34m0\u001b[0m │\n",
       "├──────────────────────────────────────┼─────────────────────────────┼─────────────────┤\n",
       "│ dropout_1 (\u001b[38;5;33mDropout\u001b[0m)                  │ (\u001b[38;5;45mNone\u001b[0m, \u001b[38;5;34m5\u001b[0m, \u001b[38;5;34m16\u001b[0m)               │               \u001b[38;5;34m0\u001b[0m │\n",
       "├──────────────────────────────────────┼─────────────────────────────┼─────────────────┤\n",
       "│ flatten (\u001b[38;5;33mFlatten\u001b[0m)                    │ (\u001b[38;5;45mNone\u001b[0m, \u001b[38;5;34m80\u001b[0m)                  │               \u001b[38;5;34m0\u001b[0m │\n",
       "├──────────────────────────────────────┼─────────────────────────────┼─────────────────┤\n",
       "│ y_pred (\u001b[38;5;33mDense\u001b[0m)                       │ (\u001b[38;5;45mNone\u001b[0m, \u001b[38;5;34m3\u001b[0m)                   │             \u001b[38;5;34m243\u001b[0m │\n",
       "└──────────────────────────────────────┴─────────────────────────────┴─────────────────┘\n"
      ]
     },
     "metadata": {},
     "output_type": "display_data"
    },
    {
     "data": {
      "text/html": [
       "<pre style=\"white-space:pre;overflow-x:auto;line-height:normal;font-family:Menlo,'DejaVu Sans Mono',consolas,'Courier New',monospace\"><span style=\"font-weight: bold\"> Total params: </span><span style=\"color: #00af00; text-decoration-color: #00af00\">1,011</span> (3.95 KB)\n",
       "</pre>\n"
      ],
      "text/plain": [
       "\u001b[1m Total params: \u001b[0m\u001b[38;5;34m1,011\u001b[0m (3.95 KB)\n"
      ]
     },
     "metadata": {},
     "output_type": "display_data"
    },
    {
     "data": {
      "text/html": [
       "<pre style=\"white-space:pre;overflow-x:auto;line-height:normal;font-family:Menlo,'DejaVu Sans Mono',consolas,'Courier New',monospace\"><span style=\"font-weight: bold\"> Trainable params: </span><span style=\"color: #00af00; text-decoration-color: #00af00\">1,011</span> (3.95 KB)\n",
       "</pre>\n"
      ],
      "text/plain": [
       "\u001b[1m Trainable params: \u001b[0m\u001b[38;5;34m1,011\u001b[0m (3.95 KB)\n"
      ]
     },
     "metadata": {},
     "output_type": "display_data"
    },
    {
     "data": {
      "text/html": [
       "<pre style=\"white-space:pre;overflow-x:auto;line-height:normal;font-family:Menlo,'DejaVu Sans Mono',consolas,'Courier New',monospace\"><span style=\"font-weight: bold\"> Non-trainable params: </span><span style=\"color: #00af00; text-decoration-color: #00af00\">0</span> (0.00 B)\n",
       "</pre>\n"
      ],
      "text/plain": [
       "\u001b[1m Non-trainable params: \u001b[0m\u001b[38;5;34m0\u001b[0m (0.00 B)\n"
      ]
     },
     "metadata": {},
     "output_type": "display_data"
    }
   ],
   "source": [
    "model2.summary()"
   ]
  },
  {
   "cell_type": "code",
   "execution_count": 8,
   "id": "7198ef6b-1803-486c-ac5e-888fb5d5e0f8",
   "metadata": {},
   "outputs": [
    {
     "name": "stdout",
     "output_type": "stream",
     "text": [
      "Layer 0 (reshape) expects 0 weights with shapes []\n",
      "Layer 1 (conv1d) expects 2 weights with shapes [(3, 15, 8), (8,)]\n",
      "Layer 2 (max_pooling1d) expects 0 weights with shapes []\n",
      "Layer 3 (dropout) expects 0 weights with shapes []\n",
      "Layer 4 (conv1d_1) expects 2 weights with shapes [(3, 8, 16), (16,)]\n",
      "Layer 5 (max_pooling1d_1) expects 0 weights with shapes []\n",
      "Layer 6 (dropout_1) expects 0 weights with shapes []\n",
      "Layer 7 (flatten) expects 0 weights with shapes []\n",
      "Layer 8 (y_pred) expects 2 weights with shapes [(80, 3), (3,)]\n"
     ]
    }
   ],
   "source": [
    "for i, layer in enumerate(model2.layers):\n",
    "    weights = layer.get_weights()\n",
    "    print(f\"Layer {i} ({layer.name}) expects {len(weights)} weights with shapes {[w.shape for w in weights]}\")"
   ]
  },
  {
   "cell_type": "code",
   "execution_count": 9,
   "id": "21179d79-ac48-4ed3-85ea-367abddf28b7",
   "metadata": {},
   "outputs": [
    {
     "name": "stdout",
     "output_type": "stream",
     "text": [
      "Weights loaded successfully.\n"
     ]
    }
   ],
   "source": [
    "output_dir2 = 'B:/jupyter_notebook/classify_saved_weights'\n",
    "weights_files2 = sorted([f for f in os.listdir(output_dir2) if f.endswith('.npy')])\n",
    "\n",
    "\n",
    "weights2 = [np.load(os.path.join(output_dir2, f)) for f in weights_files2]\n",
    "\n",
    "\n",
    "model2.layers[1].set_weights([weights2[0], weights2[1]])  \n",
    "model2.layers[4].set_weights([weights2[2], weights2[3]])  \n",
    "model2.layers[8].set_weights([weights2[4], weights2[5]])  \n",
    "\n",
    "print(\"Weights loaded successfully.\")"
   ]
  },
  {
   "cell_type": "code",
   "execution_count": 11,
   "id": "4bf45d86-b6a8-4e3e-989a-bdf62809fa48",
   "metadata": {},
   "outputs": [
    {
     "name": "stderr",
     "output_type": "stream",
     "text": [
      "WARNING:absl:You are saving your model as an HDF5 file via `model.save()` or `keras.saving.save_model(model)`. This file format is considered legacy. We recommend using instead the native Keras format, e.g. `model.save('my_model.keras')` or `keras.saving.save_model(model, 'my_model.keras')`. \n"
     ]
    }
   ],
   "source": [
    "model2.save('B:/jupyter_notebook/combined_model_save/model2.h5')\n"
   ]
  },
  {
   "cell_type": "code",
   "execution_count": 12,
   "id": "1d5e83f1-5c8a-4c79-aecd-07fc32c4d018",
   "metadata": {},
   "outputs": [],
   "source": [
    "import numpy as np\n",
    "\n",
    "\n",
    "input1 = np.array([2.3900, 0.9445, 0.1475, 1.2568, 1.0862, 0.6241, 1.2914, 1.2809, 1.2450, 0.0041, -1.6859, -1.8871, -0.4418, 0.1493, 1.0897, -0.9467, -0.3119, -0.2596, 1.0427, 1.8118, 1.6507, -1.5563, -1.4939, 0.6407, -0.2748, 1.2332, 1.8917, -1.3264, -0.7446, -1.1487, 0.4651, -0.2092, -1.3666, -0.2547, -1.6286, -1.4653, -0.2294, 0.7134, -0.1033, -0.7266, 0.6888, 0.1624, -1.7270, -0.8656, -0.9641, -0.1552, -1.7523, -1.8359, -0.6322, 0.2253, 0.4206, -0.8787, -0.4921, 2.3998, 0.6838, 2.0500, 0.4736, -0.4891, 2.0442, 2.3071, -0.7861, 0.1620, 1.1328, 0.8465, 0.6810, 0.0547, -0.3320, 0.8403, -0.5572, -1.3822, -0.4363, -0.2121, 0.0131, -0.3357, 0.0309, -0.7279, -2.0468, 0.0231, 0.5050, -0.9906, 0.1065, -0.5022, -0.6225, -0.4219, 0.9669, 1.2298, 1.4585, 1.9554, -0.6582, -2.0343, -0.6608, 1.4140, -1.2188, -0.9361, 0.2594, -1.6911, -0.0475, 0.5206, -1.4292, 0.8702, -1.3680, -0.3072, 0.6335, -1.0991, -0.3332, 1.7245, 0.5326, 1.4849, -0.9631, -0.7945, 0.7002, 0.9292, 0.7714, 0.2933, 1.2178, -0.9626, -1.2482, 0.5185, 1.6188, 0.2894, -1.5974, -0.2380, -0.3712, 0.3046, 0.8364, 1.1111, -1.3670, -2.3466, -1.1656, -1.0526, -0.2277, 1.1725, 0.3238, 0.1525, -0.2080, -0.0064, 1.8479, 1.2164, 1.8197, -0.0701, -1.2964, 0.6203, 0.8865, -0.4833, -0.9072, -0.3138, 0.1380, -0.8607, -0.0891, -0.0488, -0.4291, 0.5962, 0.7196, 0.1790, 1.4405, 0.2821, 0.8678, -0.8658, -0.5868, 1.1615, -0.5889, -1.1670, -0.5344, -0.6225, 0.0785, 1.0986, -0.6984, -1.3714, -2.4068, -1.3906, -0.5208, 0.5593, 0.9120, 0.8473, -0.3080, -0.4215, -1.0931, 0.5256, -0.0571, 0.3184, -0.9807, 0.5930, 0.0040, 0.6407, 0.0674, 0.4099, -0.3100, -0.4784, 0.4330, -0.1267, 0.5754, 1.0233, -0.0241, 0.0251, -0.5404, 0.3498, 0.0135, 0.1869, -1.0653, -1.3853, -1.8258, 0.7254, -0.0941, 0.3085, 0.5166, 0.0561, 0.3089, 1.1176, 1.0978, -0.4499, 0.3317, -0.1535, 1.2452, -0.3862, -0.0241, 0.1469, -0.8619, -0.5302, 0.2534, 1.9368, 1.1668, -0.5702, -1.2689, -0.4395, -0.6678, 0.3949, -1.1772, -0.5698, -0.2069, -0.7644, 0.1979, 2.2320, 1.4250, 0.2231, -1.3912, -0.9930, -0.4481, 1.7577, 1.5447, 1.4198, -0.5043, 0.4852, 0.8631, 0.2606, 0.6299, 1.1238, -1.1632, -0.4860, -1.8949, -1.1980, -0.0074, 0.3058, -0.1987, -1.6985, 0.8589])  # 255长度的数组\n",
    "input2 = np.array([-0.4479, -1.1968, -1.2624, -0.9630, -2.0017, -1.1554, -1.6181, 1.0906, 1.0468, 0.7607, 1.2886, -0.0490, 0.1284, 1.3209, 0.2965, -0.2828, -0.0733, -0.1122, -0.6150, -0.2387, 0.4951, 0.2591, 0.3346, 0.3697, -0.0973, 0.1010, -1.0095, -1.1829, 0.5635, 0.7216, -0.6695, 1.0621, 0.6699, -0.4563, 1.0416, 0.6185, 0.5710, 0.1056, 0.9969, 0.0455, 1.2543, 1.1909, -0.1457, -0.7962, -1.4486, -0.8940, 1.1804, 1.0042, 0.1940, 0.5008, -0.0838, -0.0924, -0.4145, -0.1343, 0.3888, 1.0921, -0.5478, -0.2246, 0.2908, 0.1352, -0.3818, 0.5538, 0.5153, 0.4231, 0.2162, -0.5337, 0.6783, 0.0118, 1.1406, 0.6048, 0.8399, -0.8354, -0.6860, 0.1583, 0.0289, 0.1265, -1.3767, -1.9773, -2.3427, -2.3668, -3.1461, -2.6115, -3.3648, -0.6064, -2.9622, -2.2297, 0.1000, -0.4583, 0.4453, -0.0159, -0.7946, 1.1697, 0.9323, -0.1019, 0.6608, 0.2844, 0.0594, 0.2187, -0.3085, 0.1786, 0.8322, 1.6748, -0.6342, -0.7652, -0.4610, -0.0771, 0.7141, 0.3710, 0.2299, 0.8197, 0.0528, 0.5715, -0.1525, 0.9696, -1.3303, 0.4636, -0.2218, -1.0867, -0.8890, -0.5444, 2.5413, -0.6263, 0.0288, 1.2460, 0.2612, -0.4050, 0.6380, 0.4893, -0.4571, 0.4638, -1.3001, 0.8518, 1.0793, -1.0605, -1.2382, 1.8865, -0.0592, 0.5615, 2.1107, 1.0361, -0.0899, 0.9459, 1.1643, -0.6535, 0.9936, -0.8533, 0.6415, 0.7741, -1.4207, -1.8435, 1.7720, -1.4296, -0.7773, 0.7571, -0.2911, -0.4624, 0.0463, -0.5738, -2.7249, -0.6749, -1.5740, 0.5075, 2.2214, -0.5718, 0.0767, -0.6920, 0.6363, -0.1138, -0.0290, 0.1751, 0.7354, 0.7117, -0.5801, -0.6059, -0.8328, 0.5024, 0.6934, 0.0109, -0.1230, -0.2990, -0.2221, 0.3954, -0.0039, -0.4486, -0.3901, 1.3450, 0.4104, 0.1173, 0.7218, 0.1965, 0.4371, 0.8749, -0.0055, -1.5975, -0.6675, 0.0482, 0.3278, 1.2507, 0.3587, 0.9297, 0.6413, -0.9782, 0.6368, 0.8633, 1.4582, -0.2746, -1.0875, -1.0347, 1.1417, 0.9156, -0.5372, -1.0215, -0.5830, -0.2823, -0.1595, -0.0308, -0.6033, 0.6235, 0.7419, -0.3724, -0.6747, -2.5399, -0.5048, 1.5961, 2.2591, -0.8873, 1.4076, 1.4332, 1.1047, 1.0078, 0.7476, -0.6185, -0.5553, -0.0478, 0.5419, -0.1028, -0.5860, -0.4732, 0.0604, 0.6243, -0.4228, -1.6852, -1.9655, -1.1851, -1.2262, 1.0164, 1.6550, 0.8184, -1.3132, 0.6027, 0.2034, 0.3664, 2.2156, 1.6547, 1.4323])\n",
    "input3 = np.array([2.8395, 0.0607, 0.3568, 1.0682, 0.0695, 0.3698, -0.0021, 0.3925, -1.2415, -1.0779, -1.0277, 0.8657, 1.8174, 0.8505, -2.1234, 1.0446, 0.0652, 0.7279, 1.0499, 0.1063, 0.3152, 0.4849, -0.6212, 0.4432, 1.5744, 0.6118, -1.0093, -0.6829, 0.6344, -0.0636, -0.2255, -0.2784, -1.1431, -0.4105, -0.2217, -0.3884, -0.2294, -0.1461, -1.1298, -0.0751, -0.6623, -0.9156, 0.3165, -1.6058, 0.3779, 0.3251, -0.3327, 0.3431, -0.1594, 0.3828, -0.3431, -0.6311, -0.2043, 1.0613, -0.1691, 0.4798, -1.1900, -0.4579, 0.3714, 0.1548, -1.1708, 1.2963, 1.0569, -0.0929, 0.4187, 1.2276, 0.2544, 0.5558, 0.3925, -1.1041, -0.0964, 1.2288, 1.1644, 0.6816, -0.6426, -1.5163, -0.6602, -0.9425, -0.6513, -1.2874, -1.0906, -0.1357, -1.0896, -1.3951, -0.5604, -0.2288, 1.2709, 0.7557, 1.8486, 0.6438, 0.2201, -1.3977, -1.1147, -0.5906, -0.6920, -1.2444, -0.7799, 0.6677, -0.0028, 1.8718, 1.3270, 0.2443, 0.2584, 0.9486, 1.3882, -0.0008, 1.1844, 1.7621, 0.6117, 1.1317, 1.6899, 1.3972, 0.4477, 1.2426, 0.3369, 1.2027, -1.2900, -2.0721, -0.3650, -0.3399, -0.8691, 0.2077, 0.2237, 1.2678, 0.5126, -0.0692, 0.5412, 0.3125, 0.1629, 1.3833, -1.3742, -1.3883, -1.0088, -1.8112, 0.3290, -0.0377, 0.9551, 0.7091, 1.5703, 1.3737, 0.2752, -0.3679, 0.7381, -0.3186, 0.0189, -1.0605, -0.1203, 0.6842, -1.1365, 0.8304, 0.9810, 1.8753, 1.4568, 1.1366, 1.7959, 0.7377, 1.0417, 0.3889, 0.6155, -1.4894, -1.5506, 1.0018, 0.3081, -1.4983, -0.9152, -0.6926, -0.8838, -1.2273, -0.3152, -1.4088, -0.7166, -1.7259, -1.7806, 1.5514, -0.0047, -0.9761, 0.5742, 0.8931, 0.3192, 1.4883, -0.6178, 0.0827, -0.1572, 0.1161, 0.3605, 0.9895, 1.7048, 1.9928, 1.1271, 0.7780, 1.0947, -0.0767, 0.1335, -0.5921, -1.9816, -0.0034, -1.8991, -1.2740, -1.7196, -1.5308, -1.3080, -1.7774, -1.4087, -0.5129, 0.7336, 0.7318, -1.2549, -1.4205, 0.2418, 0.7162, 0.1098, -1.3715, -1.5110, -2.1424, -1.7330, -2.0444, -1.3172, -1.7181, -2.1928, -1.6057, -0.7324, -0.4324, -1.1659, 0.1864, -0.5412, 0.6009, 0.5128, 0.0362, -0.2688, 0.1391, 0.8957, 0.5430, 0.3722, 0.0275, -0.6123, 0.6102, 1.1896, 0.8153, -0.0267, -0.2177, -1.0298, 0.5751, 0.6772, -0.4686, 0.5719, 0.7069, 0.9840, 1.0892, 0.1282, 0.0045, 1.6336, 1.2856, -0.3363, 0.9406, 0.8993])\n",
    "\n",
    "\n",
    "\n",
    "X_train = [input1, input2, input3]  \n",
    "# here just examples of representative_dataset_generator, add all or part of training data is recommended "
   ]
  },
  {
   "cell_type": "code",
   "execution_count": 13,
   "id": "838a9d40-3ae6-4254-a460-893403b67883",
   "metadata": {},
   "outputs": [],
   "source": [
    "X_train = np.array(X_train, dtype=np.float32)\n"
   ]
  },
  {
   "cell_type": "code",
   "execution_count": 14,
   "id": "3a634cd2-08a1-43d9-9e2c-a5829525f46b",
   "metadata": {},
   "outputs": [
    {
     "name": "stderr",
     "output_type": "stream",
     "text": [
      "WARNING:absl:No training configuration found in the save file, so the model was *not* compiled. Compile it manually.\n"
     ]
    }
   ],
   "source": [
    "import tensorflow as tf\n",
    "\n",
    "\n",
    "model2 = tf.keras.models.load_model('B:/jupyter_notebook/combined_model_save/model2.h5')"
   ]
  },
  {
   "cell_type": "code",
   "execution_count": 15,
   "id": "aa1e5190-1465-4880-8aa4-d41416347637",
   "metadata": {},
   "outputs": [
    {
     "name": "stdout",
     "output_type": "stream",
     "text": [
      "INFO:tensorflow:Assets written to: C:\\Users\\xiaju\\AppData\\Local\\Temp\\tmp_tlobalh\\assets\n"
     ]
    },
    {
     "name": "stderr",
     "output_type": "stream",
     "text": [
      "INFO:tensorflow:Assets written to: C:\\Users\\xiaju\\AppData\\Local\\Temp\\tmp_tlobalh\\assets\n"
     ]
    },
    {
     "name": "stdout",
     "output_type": "stream",
     "text": [
      "Saved artifact at 'C:\\Users\\xiaju\\AppData\\Local\\Temp\\tmp_tlobalh'. The following endpoints are available:\n",
      "\n",
      "* Endpoint 'serve'\n",
      "  args_0 (POSITIONAL_ONLY): TensorSpec(shape=(None, 255), dtype=tf.float32, name='input_layer')\n",
      "Output Type:\n",
      "  TensorSpec(shape=(None, 3), dtype=tf.float32, name=None)\n",
      "Captures:\n",
      "  1406202374272: TensorSpec(shape=(), dtype=tf.resource, name=None)\n",
      "  1406202374096: TensorSpec(shape=(), dtype=tf.resource, name=None)\n",
      "  1406202797920: TensorSpec(shape=(), dtype=tf.resource, name=None)\n",
      "  1406202744896: TensorSpec(shape=(), dtype=tf.resource, name=None)\n",
      "  1406202442320: TensorSpec(shape=(), dtype=tf.resource, name=None)\n",
      "  1406202442144: TensorSpec(shape=(), dtype=tf.resource, name=None)\n"
     ]
    },
    {
     "name": "stderr",
     "output_type": "stream",
     "text": [
      "D:\\apps\\anaconda\\anaconda\\envs\\812_tf_env\\lib\\site-packages\\tensorflow\\lite\\python\\convert.py:983: UserWarning: Statistics for quantized inputs were expected, but not specified; continuing anyway.\n",
      "  warnings.warn(\n"
     ]
    }
   ],
   "source": [
    "\n",
    "def representative_dataset_generator():\n",
    "    for i in range(len(X_train)):  \n",
    "        yield [X_train[i:i+1]] \n",
    "\n",
    "\n",
    "converter = tf.lite.TFLiteConverter.from_keras_model(model2)\n",
    "converter.optimizations = [tf.lite.Optimize.DEFAULT]\n",
    "converter.representative_dataset = representative_dataset_generator\n",
    "converter.target_spec.supported_ops = [tf.lite.OpsSet.TFLITE_BUILTINS_INT8]\n",
    "converter.inference_input_type = tf.int8  \n",
    "converter.inference_output_type = tf.int8  \n",
    "\n",
    "tflite_quant_model = converter.convert()"
   ]
  },
  {
   "cell_type": "code",
   "execution_count": 16,
   "id": "350d29e7-3045-4a90-a7ac-61b573d2c495",
   "metadata": {},
   "outputs": [],
   "source": [
    "\n",
    "with open('B:/jupyter_notebook/combined_model_save/model2_quant.tflite', 'wb') as f:\n",
    "    f.write(tflite_quant_model)"
   ]
  },
  {
   "cell_type": "code",
   "execution_count": 17,
   "id": "f7087311-9ea1-4cc9-9121-7b4bf3e255b7",
   "metadata": {},
   "outputs": [
    {
     "name": "stdout",
     "output_type": "stream",
     "text": [
      "Input scale: 0.024330588057637215\n",
      "Input zero point: 10\n",
      "Output scale: 0.00390625\n",
      "Output zero point: -128\n"
     ]
    }
   ],
   "source": [
    "\n",
    "tflite_model_path = 'B:/jupyter_notebook/combined_model_save/model2_quant.tflite'\n",
    "interpreter = tf.lite.Interpreter(model_path=tflite_model_path)\n",
    "interpreter.allocate_tensors()\n",
    "\n",
    "\n",
    "input_details = interpreter.get_input_details()\n",
    "output_details = interpreter.get_output_details()\n",
    "\n",
    "\n",
    "print(\"Input scale:\", input_details[0]['quantization'][0])\n",
    "print(\"Input zero point:\", input_details[0]['quantization'][1])\n",
    "\n",
    "\n",
    "print(\"Output scale:\", output_details[0]['quantization'][0])\n",
    "print(\"Output zero point:\", output_details[0]['quantization'][1])"
   ]
  },
  {
   "cell_type": "code",
   "execution_count": 10,
   "id": "8c6cc55b-1306-4050-8138-7eaace4f68b5",
   "metadata": {},
   "outputs": [],
   "source": [
    "#model3"
   ]
  },
  {
   "cell_type": "code",
   "execution_count": 11,
   "id": "1a74f95f-bcea-423f-a1bf-7483e76aba6c",
   "metadata": {},
   "outputs": [],
   "source": [
    "model3 = Sequential()\n",
    "model3.add(Reshape((int(507 / 13), 13), input_shape=(507, )))\n",
    "model3.add(Conv1D(8, kernel_size=3, padding='same', activation='relu'))\n",
    "model3.add(MaxPooling1D(pool_size=2, strides=2, padding='same'))\n",
    "model3.add(Dropout(0.25))\n",
    "model3.add(Conv1D(16, kernel_size=3, padding='same', activation='relu'))\n",
    "model3.add(MaxPooling1D(pool_size=2, strides=2, padding='same'))\n",
    "model3.add(Dropout(0.25))\n",
    "model3.add(Flatten())\n",
    "#model.add(Dense(classes, name='y_pred'))\n",
    "model3.add(Dense(1))  # Output one value\n",
    "#model3.add(tf.keras.layers.Lambda(lambda x: x % 360))  # Ensure output is within [0, 360]"
   ]
  },
  {
   "cell_type": "code",
   "execution_count": 13,
   "id": "af433e07-3565-4d36-a2e8-a3306167403b",
   "metadata": {},
   "outputs": [],
   "source": [
    "model3.compile(optimizer='adam', loss='mse')"
   ]
  },
  {
   "cell_type": "code",
   "execution_count": 14,
   "id": "2932152d-cf56-44d2-8aac-022fceb36de9",
   "metadata": {},
   "outputs": [
    {
     "data": {
      "text/html": [
       "<pre style=\"white-space:pre;overflow-x:auto;line-height:normal;font-family:Menlo,'DejaVu Sans Mono',consolas,'Courier New',monospace\"><span style=\"font-weight: bold\">Model: \"sequential_1\"</span>\n",
       "</pre>\n"
      ],
      "text/plain": [
       "\u001b[1mModel: \"sequential_1\"\u001b[0m\n"
      ]
     },
     "metadata": {},
     "output_type": "display_data"
    },
    {
     "data": {
      "text/html": [
       "<pre style=\"white-space:pre;overflow-x:auto;line-height:normal;font-family:Menlo,'DejaVu Sans Mono',consolas,'Courier New',monospace\">┏━━━━━━━━━━━━━━━━━━━━━━━━━━━━━━━━━━━━━━┳━━━━━━━━━━━━━━━━━━━━━━━━━━━━━┳━━━━━━━━━━━━━━━━━┓\n",
       "┃<span style=\"font-weight: bold\"> Layer (type)                         </span>┃<span style=\"font-weight: bold\"> Output Shape                </span>┃<span style=\"font-weight: bold\">         Param # </span>┃\n",
       "┡━━━━━━━━━━━━━━━━━━━━━━━━━━━━━━━━━━━━━━╇━━━━━━━━━━━━━━━━━━━━━━━━━━━━━╇━━━━━━━━━━━━━━━━━┩\n",
       "│ reshape_1 (<span style=\"color: #0087ff; text-decoration-color: #0087ff\">Reshape</span>)                  │ (<span style=\"color: #00d7ff; text-decoration-color: #00d7ff\">None</span>, <span style=\"color: #00af00; text-decoration-color: #00af00\">39</span>, <span style=\"color: #00af00; text-decoration-color: #00af00\">13</span>)              │               <span style=\"color: #00af00; text-decoration-color: #00af00\">0</span> │\n",
       "├──────────────────────────────────────┼─────────────────────────────┼─────────────────┤\n",
       "│ conv1d_2 (<span style=\"color: #0087ff; text-decoration-color: #0087ff\">Conv1D</span>)                    │ (<span style=\"color: #00d7ff; text-decoration-color: #00d7ff\">None</span>, <span style=\"color: #00af00; text-decoration-color: #00af00\">39</span>, <span style=\"color: #00af00; text-decoration-color: #00af00\">8</span>)               │             <span style=\"color: #00af00; text-decoration-color: #00af00\">320</span> │\n",
       "├──────────────────────────────────────┼─────────────────────────────┼─────────────────┤\n",
       "│ max_pooling1d_2 (<span style=\"color: #0087ff; text-decoration-color: #0087ff\">MaxPooling1D</span>)       │ (<span style=\"color: #00d7ff; text-decoration-color: #00d7ff\">None</span>, <span style=\"color: #00af00; text-decoration-color: #00af00\">20</span>, <span style=\"color: #00af00; text-decoration-color: #00af00\">8</span>)               │               <span style=\"color: #00af00; text-decoration-color: #00af00\">0</span> │\n",
       "├──────────────────────────────────────┼─────────────────────────────┼─────────────────┤\n",
       "│ dropout_2 (<span style=\"color: #0087ff; text-decoration-color: #0087ff\">Dropout</span>)                  │ (<span style=\"color: #00d7ff; text-decoration-color: #00d7ff\">None</span>, <span style=\"color: #00af00; text-decoration-color: #00af00\">20</span>, <span style=\"color: #00af00; text-decoration-color: #00af00\">8</span>)               │               <span style=\"color: #00af00; text-decoration-color: #00af00\">0</span> │\n",
       "├──────────────────────────────────────┼─────────────────────────────┼─────────────────┤\n",
       "│ conv1d_3 (<span style=\"color: #0087ff; text-decoration-color: #0087ff\">Conv1D</span>)                    │ (<span style=\"color: #00d7ff; text-decoration-color: #00d7ff\">None</span>, <span style=\"color: #00af00; text-decoration-color: #00af00\">20</span>, <span style=\"color: #00af00; text-decoration-color: #00af00\">16</span>)              │             <span style=\"color: #00af00; text-decoration-color: #00af00\">400</span> │\n",
       "├──────────────────────────────────────┼─────────────────────────────┼─────────────────┤\n",
       "│ max_pooling1d_3 (<span style=\"color: #0087ff; text-decoration-color: #0087ff\">MaxPooling1D</span>)       │ (<span style=\"color: #00d7ff; text-decoration-color: #00d7ff\">None</span>, <span style=\"color: #00af00; text-decoration-color: #00af00\">10</span>, <span style=\"color: #00af00; text-decoration-color: #00af00\">16</span>)              │               <span style=\"color: #00af00; text-decoration-color: #00af00\">0</span> │\n",
       "├──────────────────────────────────────┼─────────────────────────────┼─────────────────┤\n",
       "│ dropout_3 (<span style=\"color: #0087ff; text-decoration-color: #0087ff\">Dropout</span>)                  │ (<span style=\"color: #00d7ff; text-decoration-color: #00d7ff\">None</span>, <span style=\"color: #00af00; text-decoration-color: #00af00\">10</span>, <span style=\"color: #00af00; text-decoration-color: #00af00\">16</span>)              │               <span style=\"color: #00af00; text-decoration-color: #00af00\">0</span> │\n",
       "├──────────────────────────────────────┼─────────────────────────────┼─────────────────┤\n",
       "│ flatten_1 (<span style=\"color: #0087ff; text-decoration-color: #0087ff\">Flatten</span>)                  │ (<span style=\"color: #00d7ff; text-decoration-color: #00d7ff\">None</span>, <span style=\"color: #00af00; text-decoration-color: #00af00\">160</span>)                 │               <span style=\"color: #00af00; text-decoration-color: #00af00\">0</span> │\n",
       "├──────────────────────────────────────┼─────────────────────────────┼─────────────────┤\n",
       "│ dense (<span style=\"color: #0087ff; text-decoration-color: #0087ff\">Dense</span>)                        │ (<span style=\"color: #00d7ff; text-decoration-color: #00d7ff\">None</span>, <span style=\"color: #00af00; text-decoration-color: #00af00\">1</span>)                   │             <span style=\"color: #00af00; text-decoration-color: #00af00\">161</span> │\n",
       "└──────────────────────────────────────┴─────────────────────────────┴─────────────────┘\n",
       "</pre>\n"
      ],
      "text/plain": [
       "┏━━━━━━━━━━━━━━━━━━━━━━━━━━━━━━━━━━━━━━┳━━━━━━━━━━━━━━━━━━━━━━━━━━━━━┳━━━━━━━━━━━━━━━━━┓\n",
       "┃\u001b[1m \u001b[0m\u001b[1mLayer (type)                        \u001b[0m\u001b[1m \u001b[0m┃\u001b[1m \u001b[0m\u001b[1mOutput Shape               \u001b[0m\u001b[1m \u001b[0m┃\u001b[1m \u001b[0m\u001b[1m        Param #\u001b[0m\u001b[1m \u001b[0m┃\n",
       "┡━━━━━━━━━━━━━━━━━━━━━━━━━━━━━━━━━━━━━━╇━━━━━━━━━━━━━━━━━━━━━━━━━━━━━╇━━━━━━━━━━━━━━━━━┩\n",
       "│ reshape_1 (\u001b[38;5;33mReshape\u001b[0m)                  │ (\u001b[38;5;45mNone\u001b[0m, \u001b[38;5;34m39\u001b[0m, \u001b[38;5;34m13\u001b[0m)              │               \u001b[38;5;34m0\u001b[0m │\n",
       "├──────────────────────────────────────┼─────────────────────────────┼─────────────────┤\n",
       "│ conv1d_2 (\u001b[38;5;33mConv1D\u001b[0m)                    │ (\u001b[38;5;45mNone\u001b[0m, \u001b[38;5;34m39\u001b[0m, \u001b[38;5;34m8\u001b[0m)               │             \u001b[38;5;34m320\u001b[0m │\n",
       "├──────────────────────────────────────┼─────────────────────────────┼─────────────────┤\n",
       "│ max_pooling1d_2 (\u001b[38;5;33mMaxPooling1D\u001b[0m)       │ (\u001b[38;5;45mNone\u001b[0m, \u001b[38;5;34m20\u001b[0m, \u001b[38;5;34m8\u001b[0m)               │               \u001b[38;5;34m0\u001b[0m │\n",
       "├──────────────────────────────────────┼─────────────────────────────┼─────────────────┤\n",
       "│ dropout_2 (\u001b[38;5;33mDropout\u001b[0m)                  │ (\u001b[38;5;45mNone\u001b[0m, \u001b[38;5;34m20\u001b[0m, \u001b[38;5;34m8\u001b[0m)               │               \u001b[38;5;34m0\u001b[0m │\n",
       "├──────────────────────────────────────┼─────────────────────────────┼─────────────────┤\n",
       "│ conv1d_3 (\u001b[38;5;33mConv1D\u001b[0m)                    │ (\u001b[38;5;45mNone\u001b[0m, \u001b[38;5;34m20\u001b[0m, \u001b[38;5;34m16\u001b[0m)              │             \u001b[38;5;34m400\u001b[0m │\n",
       "├──────────────────────────────────────┼─────────────────────────────┼─────────────────┤\n",
       "│ max_pooling1d_3 (\u001b[38;5;33mMaxPooling1D\u001b[0m)       │ (\u001b[38;5;45mNone\u001b[0m, \u001b[38;5;34m10\u001b[0m, \u001b[38;5;34m16\u001b[0m)              │               \u001b[38;5;34m0\u001b[0m │\n",
       "├──────────────────────────────────────┼─────────────────────────────┼─────────────────┤\n",
       "│ dropout_3 (\u001b[38;5;33mDropout\u001b[0m)                  │ (\u001b[38;5;45mNone\u001b[0m, \u001b[38;5;34m10\u001b[0m, \u001b[38;5;34m16\u001b[0m)              │               \u001b[38;5;34m0\u001b[0m │\n",
       "├──────────────────────────────────────┼─────────────────────────────┼─────────────────┤\n",
       "│ flatten_1 (\u001b[38;5;33mFlatten\u001b[0m)                  │ (\u001b[38;5;45mNone\u001b[0m, \u001b[38;5;34m160\u001b[0m)                 │               \u001b[38;5;34m0\u001b[0m │\n",
       "├──────────────────────────────────────┼─────────────────────────────┼─────────────────┤\n",
       "│ dense (\u001b[38;5;33mDense\u001b[0m)                        │ (\u001b[38;5;45mNone\u001b[0m, \u001b[38;5;34m1\u001b[0m)                   │             \u001b[38;5;34m161\u001b[0m │\n",
       "└──────────────────────────────────────┴─────────────────────────────┴─────────────────┘\n"
      ]
     },
     "metadata": {},
     "output_type": "display_data"
    },
    {
     "data": {
      "text/html": [
       "<pre style=\"white-space:pre;overflow-x:auto;line-height:normal;font-family:Menlo,'DejaVu Sans Mono',consolas,'Courier New',monospace\"><span style=\"font-weight: bold\"> Total params: </span><span style=\"color: #00af00; text-decoration-color: #00af00\">881</span> (3.44 KB)\n",
       "</pre>\n"
      ],
      "text/plain": [
       "\u001b[1m Total params: \u001b[0m\u001b[38;5;34m881\u001b[0m (3.44 KB)\n"
      ]
     },
     "metadata": {},
     "output_type": "display_data"
    },
    {
     "data": {
      "text/html": [
       "<pre style=\"white-space:pre;overflow-x:auto;line-height:normal;font-family:Menlo,'DejaVu Sans Mono',consolas,'Courier New',monospace\"><span style=\"font-weight: bold\"> Trainable params: </span><span style=\"color: #00af00; text-decoration-color: #00af00\">881</span> (3.44 KB)\n",
       "</pre>\n"
      ],
      "text/plain": [
       "\u001b[1m Trainable params: \u001b[0m\u001b[38;5;34m881\u001b[0m (3.44 KB)\n"
      ]
     },
     "metadata": {},
     "output_type": "display_data"
    },
    {
     "data": {
      "text/html": [
       "<pre style=\"white-space:pre;overflow-x:auto;line-height:normal;font-family:Menlo,'DejaVu Sans Mono',consolas,'Courier New',monospace\"><span style=\"font-weight: bold\"> Non-trainable params: </span><span style=\"color: #00af00; text-decoration-color: #00af00\">0</span> (0.00 B)\n",
       "</pre>\n"
      ],
      "text/plain": [
       "\u001b[1m Non-trainable params: \u001b[0m\u001b[38;5;34m0\u001b[0m (0.00 B)\n"
      ]
     },
     "metadata": {},
     "output_type": "display_data"
    }
   ],
   "source": [
    "model3.summary()"
   ]
  },
  {
   "cell_type": "code",
   "execution_count": 15,
   "id": "750598d6-d94d-4649-bbf3-95b0692fa7ea",
   "metadata": {},
   "outputs": [
    {
     "name": "stdout",
     "output_type": "stream",
     "text": [
      "Layer 0: reshape_1, Trainable: False\n",
      "Layer 1: conv1d_2, Trainable: True\n",
      "Layer 2: max_pooling1d_2, Trainable: False\n",
      "Layer 3: dropout_2, Trainable: False\n",
      "Layer 4: conv1d_3, Trainable: True\n",
      "Layer 5: max_pooling1d_3, Trainable: False\n",
      "Layer 6: dropout_3, Trainable: False\n",
      "Layer 7: flatten_1, Trainable: False\n",
      "Layer 8: dense, Trainable: True\n"
     ]
    }
   ],
   "source": [
    "for i, layer in enumerate(model3.layers):\n",
    "    print(f\"Layer {i}: {layer.name}, Trainable: {len(layer.get_weights()) > 0}\")"
   ]
  },
  {
   "cell_type": "code",
   "execution_count": 16,
   "id": "dfc1cbbc-73a3-434d-8338-798eeb03aef0",
   "metadata": {},
   "outputs": [
    {
     "name": "stdout",
     "output_type": "stream",
     "text": [
      "Layer 0 (reshape_1) expects 0 weights with shapes []\n",
      "Layer 1 (conv1d_2) expects 2 weights with shapes [(3, 13, 8), (8,)]\n",
      "Layer 2 (max_pooling1d_2) expects 0 weights with shapes []\n",
      "Layer 3 (dropout_2) expects 0 weights with shapes []\n",
      "Layer 4 (conv1d_3) expects 2 weights with shapes [(3, 8, 16), (16,)]\n",
      "Layer 5 (max_pooling1d_3) expects 0 weights with shapes []\n",
      "Layer 6 (dropout_3) expects 0 weights with shapes []\n",
      "Layer 7 (flatten_1) expects 0 weights with shapes []\n",
      "Layer 8 (dense) expects 2 weights with shapes [(160, 1), (1,)]\n"
     ]
    }
   ],
   "source": [
    "for i, layer in enumerate(model3.layers):\n",
    "    weights = layer.get_weights()\n",
    "    print(f\"Layer {i} ({layer.name}) expects {len(weights)} weights with shapes {[w.shape for w in weights]}\")"
   ]
  },
  {
   "cell_type": "code",
   "execution_count": 17,
   "id": "16471967-39f9-4709-884a-c7c43d18c78f",
   "metadata": {},
   "outputs": [
    {
     "name": "stdout",
     "output_type": "stream",
     "text": [
      "Weights loaded successfully.\n"
     ]
    }
   ],
   "source": [
    "output_dir = 'B:/jupyter_notebook/821_/821_weight'\n",
    "weights_files = sorted([f for f in os.listdir(output_dir) if f.endswith('.npy')])\n",
    "\n",
    "\n",
    "weights = [np.load(os.path.join(output_dir, f)) for f in weights_files]\n",
    "\n",
    "\n",
    "model3.layers[1].set_weights([weights[0], weights[1]])  \n",
    "model3.layers[4].set_weights([weights[2], weights[3]])  \n",
    "model3.layers[8].set_weights([weights[4], weights[5]])  \n",
    "\n",
    "print(\"Weights loaded successfully.\")"
   ]
  },
  {
   "cell_type": "code",
   "execution_count": 18,
   "id": "b218d17a-a317-4042-9439-afac2f33f0c8",
   "metadata": {},
   "outputs": [],
   "source": [
    "from tensorflow.keras.models import Model\n",
    "from tensorflow.keras.layers import Input"
   ]
  },
  {
   "cell_type": "code",
   "execution_count": 20,
   "id": "0aaeeaa0-3591-4c68-b9b0-e91282cd62f3",
   "metadata": {},
   "outputs": [],
   "source": [
    "input_shape_regression = (507,)  \n",
    "input_shape_classification = (255,)  "
   ]
  },
  {
   "cell_type": "code",
   "execution_count": 21,
   "id": "a4915479-1951-46ed-933d-d632a4fc01c3",
   "metadata": {},
   "outputs": [],
   "source": [
    "input1 = Input(shape=input_shape_classification)\n",
    "input2 = Input(shape=input_shape_regression)"
   ]
  },
  {
   "cell_type": "code",
   "execution_count": 22,
   "id": "3cc601d4-8287-477f-88a6-b16ac7cdb1d7",
   "metadata": {},
   "outputs": [],
   "source": [
    "output1 = model2(input1)  \n",
    "output2 = model3(input2)  "
   ]
  },
  {
   "cell_type": "code",
   "execution_count": 23,
   "id": "70dc0df1-740e-405d-9f03-27e27912639b",
   "metadata": {},
   "outputs": [],
   "source": [
    "combined_model = Model(inputs=[input1, input2], outputs=[output1, output2])"
   ]
  },
  {
   "cell_type": "code",
   "execution_count": 24,
   "id": "0168c6b4-a193-4654-bb90-2db04e941052",
   "metadata": {},
   "outputs": [
    {
     "name": "stdout",
     "output_type": "stream",
     "text": [
      "(3, 255)\n",
      "(3, 507)\n"
     ]
    }
   ],
   "source": [
    "import numpy as np\n",
    "\n",
    "\n",
    "input1_sample1 = [2.3900, 0.9445, 0.1475, 1.2568, 1.0862, 0.6241, 1.2914, 1.2809, 1.2450, 0.0041, -1.6859, -1.8871, -0.4418, 0.1493, 1.0897, -0.9467, -0.3119, -0.2596, 1.0427, 1.8118, 1.6507, -1.5563, -1.4939, 0.6407, -0.2748, 1.2332, 1.8917, -1.3264, -0.7446, -1.1487, 0.4651, -0.2092, -1.3666, -0.2547, -1.6286, -1.4653, -0.2294, 0.7134, -0.1033, -0.7266, 0.6888, 0.1624, -1.7270, -0.8656, -0.9641, -0.1552, -1.7523, -1.8359, -0.6322, 0.2253, 0.4206, -0.8787, -0.4921, 2.3998, 0.6838, 2.0500, 0.4736, -0.4891, 2.0442, 2.3071, -0.7861, 0.1620, 1.1328, 0.8465, 0.6810, 0.0547, -0.3320, 0.8403, -0.5572, -1.3822, -0.4363, -0.2121, 0.0131, -0.3357, 0.0309, -0.7279, -2.0468, 0.0231, 0.5050, -0.9906, 0.1065, -0.5022, -0.6225, -0.4219, 0.9669, 1.2298, 1.4585, 1.9554, -0.6582, -2.0343, -0.6608, 1.4140, -1.2188, -0.9361, 0.2594, -1.6911, -0.0475, 0.5206, -1.4292, 0.8702, -1.3680, -0.3072, 0.6335, -1.0991, -0.3332, 1.7245, 0.5326, 1.4849, -0.9631, -0.7945, 0.7002, 0.9292, 0.7714, 0.2933, 1.2178, -0.9626, -1.2482, 0.5185, 1.6188, 0.2894, -1.5974, -0.2380, -0.3712, 0.3046, 0.8364, 1.1111, -1.3670, -2.3466, -1.1656, -1.0526, -0.2277, 1.1725, 0.3238, 0.1525, -0.2080, -0.0064, 1.8479, 1.2164, 1.8197, -0.0701, -1.2964, 0.6203, 0.8865, -0.4833, -0.9072, -0.3138, 0.1380, -0.8607, -0.0891, -0.0488, -0.4291, 0.5962, 0.7196, 0.1790, 1.4405, 0.2821, 0.8678, -0.8658, -0.5868, 1.1615, -0.5889, -1.1670, -0.5344, -0.6225, 0.0785, 1.0986, -0.6984, -1.3714, -2.4068, -1.3906, -0.5208, 0.5593, 0.9120, 0.8473, -0.3080, -0.4215, -1.0931, 0.5256, -0.0571, 0.3184, -0.9807, 0.5930, 0.0040, 0.6407, 0.0674, 0.4099, -0.3100, -0.4784, 0.4330, -0.1267, 0.5754, 1.0233, -0.0241, 0.0251, -0.5404, 0.3498, 0.0135, 0.1869, -1.0653, -1.3853, -1.8258, 0.7254, -0.0941, 0.3085, 0.5166, 0.0561, 0.3089, 1.1176, 1.0978, -0.4499, 0.3317, -0.1535, 1.2452, -0.3862, -0.0241, 0.1469, -0.8619, -0.5302, 0.2534, 1.9368, 1.1668, -0.5702, -1.2689, -0.4395, -0.6678, 0.3949, -1.1772, -0.5698, -0.2069, -0.7644, 0.1979, 2.2320, 1.4250, 0.2231, -1.3912, -0.9930, -0.4481, 1.7577, 1.5447, 1.4198, -0.5043, 0.4852, 0.8631, 0.2606, 0.6299, 1.1238, -1.1632, -0.4860, -1.8949, -1.1980, -0.0074, 0.3058, -0.1987, -1.6985, 0.8589]  # input1 的一个样本，长度为 2600\n",
    "input1_sample2 = [0.7137, -0.9920, -1.8141, -1.2755, -2.2633, -1.4529, -0.0337, -1.2378, -1.2398, 0.2769, -0.0106, -0.3706, -0.7965, -0.0385, -1.5035, -0.7046, -0.4441, -0.5612, -0.6885, 0.4692, -1.3255, -0.0699, -1.2092, -1.0267, -0.3524, 1.2069, -0.8432, -0.1220, 0.3297, 1.8279, -0.8834, -1.7352, -1.3494, -1.6524, -0.7685, -1.3674, -2.7691, -1.3978, -1.7627, -0.1198, 0.6061, -0.8305, -1.0991, 2.4011, -0.4393, 0.0096, 0.3089, 0.3589, -0.4503, -0.2456, 1.6736, 1.5400, 0.1163, -0.0788, 0.1097, 1.1112, -0.8059, -1.2837, 0.5319, 1.0352, 1.2280, -0.4834, -1.0730, -1.6924, -1.5433, 0.4580, -0.7804, -1.0299, -1.5583, -0.4428, -1.2714, -0.7921, -1.1976, -1.3078, 1.5073, 0.4440, 1.1561, 0.6403, -0.3191, -0.0462, 1.6886, 1.2183, -0.3018, -0.1221, 1.1128, 1.1232, 0.1207, -0.6389, 0.7462, 1.0207, -1.2378, -0.0610, -0.5207, 0.0179, 0.2562, -0.2649, 0.7564, -0.1085, -0.7047, 1.5612, 0.7087, -0.5713, -0.4141, 0.2511, -0.2909, -1.0636, -1.2508, -1.3176, -0.7038, 0.0990, -0.3665, -0.4287, -1.0752, 0.0166, 0.7033, -0.0517, -1.0866, -1.2494, -0.8336, 0.4400, -0.0561, -0.0683, -0.2613, 0.2237, -0.4633, -0.2413, 0.0343, -0.9744, 0.9609, -1.0557, 1.1415, 0.9027, 1.3505, 0.0376, 0.1703, 2.2456, -1.5106, 0.9872, 1.9417, -0.5581, 1.1810, 1.0197, 0.8160, 0.8535, 0.9996, -2.1696, 1.1355, 1.4768, -2.6129, -0.1786, 0.9917, 1.7697, 1.7721, 1.3946, 1.0230, 0.1005, -0.1309, 0.2544, 1.1426, -0.3026, -1.5453, 1.1110, 1.4444, -0.2708, 0.7381, -0.2911, 0.9869, 1.2579, 1.0040, -0.5195, 1.4796, 0.9228, 0.5206, -0.1672, 0.3056, 1.0139, -1.4399, 0.5914, 0.2023, 0.4547, -1.1103, 0.6650, 0.8123, 1.0715, 1.1799, -0.7386, -0.3802, 0.6941, 0.3624, 0.4784, -0.0325, -0.5032, 1.1722, 0.5599, -0.7781, -1.1479, -0.5644, 0.1352, 0.3482, 0.6405, -0.2836, -1.0507, 1.1554, 1.7672, 0.8553, -0.2083, 0.7800, 1.3003, 0.3940, -1.3906, -0.7427, 0.4252, 0.3570, 0.5129, 1.3750, -0.6924, -0.5810, 1.5711, 0.5704, -2.1432, -0.4843, 1.7043, 0.1702, -0.5832, -0.5875, 0.3538, 0.3309, -0.4527, -0.1069, -0.3819, -0.3724, -0.0460, 0.3451, 1.2760, -2.1020, -0.3011, 1.8267, -0.6485, 0.1935, -1.6775, 1.2407, 1.4542, 1.0429, 0.3775, 1.7588, 0.5482, 0.7567, 1.8525, -0.2825, 0.1037, -0.8171, -0.3520, -0.0487, -0.0463, -0.3559]  # input1 的另一个样本\n",
    "input1_sample3 = [-0.1189, -1.3303, -1.1946, -1.6203, -1.8920, -1.9720, -1.5035, -2.3374, -1.6949, -1.4962, -1.3367, -1.7921, -0.6378, -0.2506, 0.5266, -0.0886, 1.4141, 1.2991, 0.9890, 1.2204, 1.6218, -0.0765, 0.6204, 0.9895, 0.5774, -0.0970, -0.0939, 0.2632, -2.1801, -1.5748, -0.2432, -0.8615, -0.8737, -0.4739, -0.8245, -1.1443, -1.8877, -1.3163, 0.5554, 0.3734, -0.4465, -0.1194, -1.3547, 0.4698, 1.7580, -0.2611, -0.5481, -0.5733, -0.2856, -0.6124, 0.3601, 0.1766, 1.2804, 0.5167, 1.0454, 0.4917, -0.3804, 0.5386, 0.1161, -0.7389, -0.4921, 1.3165, 1.1635, 0.7838, 0.8560, 0.4146, 0.8607, 0.8016, 0.2628, -0.3636, 0.6717, -0.8050, -0.1023, 0.0794, -0.7247, -0.3342, 0.1650, 0.0176, -0.1870, 0.3400, -0.2619, 0.0648, -0.4281, 0.4997, -1.0278, 1.0834, -0.9961, -0.3422, 0.7808, 0.3865, -0.1805, -0.7195, -0.5543, -1.0223, -0.5500, -0.4745, -1.7945, 0.2248, 0.6192, 0.9287, 1.0679, 0.0403, -0.9627, 0.6088, 0.7769, -0.1884, -0.6874, -0.3188, -0.2399, 0.2014, 0.9635, 0.2243, 1.3102, 0.6847, 0.6339, 0.0133, -0.5559, 1.0858, 1.1991, 1.9987, 1.0450, 1.2388, 1.9415, 1.3140, 1.7477, -0.3785, -0.2562, 0.3838, -0.0717, 0.4314, -0.5534, 0.3582, 1.0694, -1.5296, -0.1892, -0.5040, -0.3115, -0.5639, -0.7036, 0.7587, -0.0415, 0.4518, 0.8871, 0.4251, 0.6514, -1.2581, 0.2419, -0.2755, 0.7949, 1.0142, -1.0155, 0.0554, 0.0468, -0.4155, -0.4187, -0.0822, -0.9863, -0.3577, 1.0221, 1.9892, 0.7725, 0.5805, -0.3363, 0.8803, 0.4325, -0.6766, 0.9357, 1.2393, 0.4763, 1.1425, 1.6128, 0.2479, 0.7647, -0.6895, -0.8894, 0.3246, 0.2846, -1.7117, -1.3631, 0.4495, -0.3539, 0.5191, -0.3507, 0.3160, -1.1710, -0.1847, 1.7934, -0.6760, -1.1582, -0.9612, 0.3121, 3.0407, 1.9954, 0.5574, -0.5266, 3.6221, -2.4053, -2.0717, 2.6655, -1.5668, -0.5788, 0.6599, 0.6014, -2.6887, -0.1297, -2.7464, -0.4857, -0.2716, 1.4946, -0.4425, -0.3952, 0.8305, 0.9001, -0.2486, 0.8447, 1.6748, 1.4213, 0.4420, -0.3109, -1.8264, 1.2265, 1.1808, -1.1630, -0.7929, -1.1106, 0.2321, 0.0894, -0.3582, -1.1472, 0.0396, -1.2855, 0.4553, -1.2927, 0.9586, 0.7679, 0.3721, -0.2958, 1.2157, -0.8680, -1.3126, -0.0617, 0.2984, 0.2681, -0.2040, -0.0974, -0.2616, 0.1535, -0.9183, 0.1145, -0.6894, 0.1273, -0.2360, 0.9661, -0.0242, -0.7301]\n",
    "\n",
    "input2_sample1 = [2.2540, -1.3505, 0.0102, -2.9291, 0.2688, 2.1474, 1.3760, 2.5996, -0.6812, 0.1464, -2.0145, -2.3016, 2.2987, 2.0617, -1.6062, -0.2808, -1.8664, -0.2772, 1.0429, 0.7604, 1.4078, -2.8434, -1.2393, -2.0458, -1.2167, 0.6665, 2.7389, -2.1780, -1.6062, 0.8489, -2.4365, 0.4925, 0.8964, 2.5521, 2.4349, -3.1746, -2.5536, 1.5358, 1.0213, 2.9324, -3.3123, -1.2746, -0.2203, -0.2007, -0.0405, -1.7143, 1.3400, 0.4223, -2.3055, -1.0438, 2.0560, -0.5024, 2.5059, -2.5486, -1.6151, 1.5430, -0.9118, 1.3917, -1.4051, 0.8981, 0.1344, 0.4280, -1.2131, 0.4446, 1.3201, 0.6196, -0.9121, -1.1322, -0.5488, 2.2498, 1.6257, -0.8053, 1.0141, -0.3800, 0.1820, -0.4942, 0.7602, -0.4000, -0.1402, -0.7469, -1.5689, -0.7622, 0.6919, -0.9921, 0.5667, -0.2136, 1.5304, 0.8419, 0.7889, 0.2964, -0.3679, -0.1265, -0.5444, 0.3246, 0.9282, 1.4186, 1.6895, 2.6507, 0.1423, 0.7011, 0.7044, 1.6033, -0.3802, -1.2567, -0.0241, -0.4095, 0.3400, -0.4206, -0.3407, 0.6387, 1.2956, 0.6847, 1.6939, 0.5344, -0.2943, -0.3511, -0.4049, 1.0181, -0.7307, -0.1359, -2.3826, -1.8557, -0.9462, 2.2345, 0.9094, 1.2617, -1.9904, -1.1608, -1.2426, -0.2169, -0.1143, -0.2171, -0.0768, -1.0290, 0.6081, -1.1333, -0.8490, 0.2073, 0.1424, 1.4007, -0.8348, -0.2220, 2.1605, -0.3600, 0.4455, 0.1661, 0.0509, 1.3338, -1.5099, 0.5112, 1.5857, 1.5345, 2.0677, -0.3119, 0.5733, 1.6437, -0.0662, -0.5684, -2.1762, 1.1898, -0.7014, -0.4764, -0.8657, 0.1598, 1.4864, -2.0221, -1.4549, 0.2396, 0.6598, 0.0908, -0.9384, -1.0602, 0.3823, 0.0610, -1.4665, -2.3778, -0.4172, 1.6285, 0.4048, -0.2976, 0.7213, 0.3683, -0.2083, -0.3742, -0.4935, 0.6834, -0.8854, 1.0476, -1.5780, -0.3777, 0.1071, 0.4426, -0.0708, 0.6812, 1.6914, -0.9420, 0.7964, 0.5227, 0.5422, 1.0570, -0.3624, -0.4567, 0.3063, 0.7716, 0.6142, 0.9098, 2.2779, 1.2021, -1.1548, 1.0578, -0.4315, -0.5917, -0.2043, -0.7360, -1.1471, -0.6948, -0.4023, -0.1942, 1.3141, 0.8203, 0.2652, -0.9620, 0.7464, -0.2438, -0.4558, 0.5895, -2.0581, -1.3447, -0.6095, -0.4990, 0.7930, 1.3593, 0.9067, 1.4277, -0.7924, 0.5802, -0.3140, -0.1609, 1.7091, -1.0678, -0.5612, -0.6801, -0.4085, 0.5605, 0.7129, 1.0063, 1.6225, -0.3438, 0.7885, 0.1865, -0.3735, 0.3738, -1.5674, 0.1025, -0.8867, 1.1769, 1.1083, 0.9249, 0.3656, 0.0715, -0.0423, 0.9225, 1.7455, 0.9768, 1.0511, -0.1161, -0.1446, -0.4646, -1.2077, -0.4789, -0.5427, -0.6452, 0.0411, 0.1379, 0.9550, 1.5143, 0.2080, 0.4418, -0.3255, -0.1338, -0.2500, -1.6011, -0.1997, 0.1812, -0.1845, -0.5788, 0.0901, 0.6586, 0.7051, 0.6548, 0.5592, 1.0922, -1.3136, -0.4074, -1.2899, -0.4743, -0.3497, -0.6675, -0.9174, 0.1115, 0.1499, 0.2449, 1.0526, 0.3924, 0.5804, -0.3484, 0.6086, 0.2131, 0.5319, 0.2410, 0.4366, -0.8872, -0.1225, 0.5657, 1.6727, 2.6982, 0.2541, 0.7587, 0.8971, -0.6905, -0.6031, 0.5442, 2.2240, 1.3328, -0.0150, -0.3336, 0.8944, 0.9861, 0.6059, 0.1212, 0.5824, -0.3788, -1.6491, -1.1071, -0.3376, -0.4699, 0.2097, -1.1822, -0.4715, 1.0744, 0.8660, 0.3088, -0.2787, 1.1245, 0.2920, -1.0844, -0.5178, -0.4543, -0.1120, -1.3047, -1.1601, -0.4257, 0.9437, 1.6944, 0.9221, -0.5398, 0.7109, 0.8925, -1.9874, -0.8874, -0.1437, 0.1370, -1.0320, -0.4086, -0.4692, 1.0380, 0.0422, 0.5568, 0.3802, -0.6172, 0.2072, -0.6407, 0.0833, -0.3363, -0.5125, -1.0900, -0.9232, -0.5008, 1.1653, 1.1411, 0.3151, -0.1349, 0.0053, 0.5833, -1.2465, -0.6857, -0.8773, -0.0037, -1.6257, -1.1181, -0.2940, 0.1792, 1.4112, -0.4610, -1.2150, -0.0682, 0.1885, 0.6603, 0.0869, 1.1379, 0.6924, -1.5614, 0.3283, -0.3477, -0.0506, 0.6998, -1.1794, -1.1925, -1.3293, 0.6694, 0.1113, -0.0109, 1.2418, 1.1486, -0.8495, -0.6240, -0.4047, 0.0815, -1.5043, -0.0083, -2.1019, -0.4025, 0.3460, 0.3895, 0.0552, 0.1733, -0.6421, 0.2407, -0.6861, -0.2388, 0.1361, 0.7997, -0.1256, -1.3489, -1.0360, 0.1211, 0.1661, 0.5658, -0.3540, 0.2427, 0.6915, -1.0540, -0.5165, -0.1445, -0.1101, 0.3525, -0.4515, -0.1029, -0.1176, 0.0276, -0.6057, -0.1719, 0.2969, 0.2684, -0.3189, -0.9407, 0.5253, -0.9417, 0.1057, 0.8607, -0.3189, -0.8500, -1.5681, -0.9477, -0.3853, 0.8330, -0.1101, -0.3265, -0.8600, 0.2588, -0.8740, -0.2198, 0.5708, 0.4797, 0.4469, -0.6485, 0.0005, -0.2451, 1.0548, -0.1477, -1.2705, -0.9803, 0.5792, 0.4885, -0.3178, 0.6977, 1.0482, 0.7935, -0.4801, -0.2307, 0.9124, 0.4949, 0.2155, -0.6307, -1.0471, 0.9091, 0.2160, -1.0258, -0.1827, 0.4640, 0.4330, -0.4162, -0.3896, 0.3275, 0.5161, -0.8924, -1.0416]  # input2 的一个样本，长度为 255\n",
    "input2_sample2 = [0.5621, -0.9917, -0.5674, 0.0984, 0.1572, 0.9583, 1.1778, -0.0426, 0.0726, -1.2979, -0.8791, -0.5821, -0.1746, 0.8457, -0.6390, -1.1048, -0.9139, -0.7638, 0.0029, -0.3607, -0.1606, 0.6494, -1.9702, -1.5389, -0.2377, -1.2262, 0.5417, 0.0409, -0.0975, 0.0271, -0.1756, 2.4056, 0.6430, 0.4788, -0.3160, -0.5411, 1.3706, 0.4141, -0.8599, 0.4834, -0.3760, -0.4322, -0.3562, -1.0489, 0.8890, -0.2882, -1.0097, -2.4528, -0.8497, -0.5762, -1.0978, -1.5280, -0.2000, -0.7101, -1.0475, -0.9527, -0.4454, -0.0551, -1.3180, -1.0222, -0.2057, -0.6093, -0.8968, 0.0000, -0.0878, -0.1127, 0.4226, -0.7323, -1.0441, 0.4721, 1.0402, 0.9039, -0.5493, -0.9224, 0.7907, 0.6705, -0.3300, -0.8256, -0.0205, 1.1235, 0.5904, -0.5047, 0.1109, 0.7512, 1.4588, -0.6658, 0.2976, 2.2542, 0.9605, -0.1797, -1.2715, 0.0753, 0.7528, -0.5997, -1.5301, -0.1711, 0.0050, 0.8469, 0.7316, -0.8063, -0.1334, 0.7582, -0.8906, -1.0391, 0.5514, -0.7068, -1.9668, -1.2470, 0.1907, -0.0538, 0.5645, 0.1697, -1.6491, -0.1819, -0.5193, -0.7818, -1.1913, 0.2469, 0.1704, -0.0117, 0.3093, 1.9168, 0.4692, -0.2332, -0.0329, 0.1400, 0.6773, -0.5958, -0.1975, -0.5416, -0.9531, 0.6227, -0.3261, 0.5760, -0.3019, -0.4359, 0.6711, -0.5398, 0.6074, -1.0028, -0.6181, 0.3825, 0.2328, 0.0157, -0.5846, -0.4719, 0.6825, -0.6867, -0.1183, -0.9249, 0.6469, 1.4705, -0.5348, 0.8700, 1.6497, 0.9493, 0.0828, 0.0822, 1.8493, 0.6657, -0.4085, -0.1446, 0.2620, 0.9939, 1.4782, 0.2544, -0.0056, 0.6914, -1.7366, -0.7293, 1.1638, 1.2996, -0.7836, 0.7868, -0.2292, -0.5356, -1.6757, -0.5223, 0.3621, 0.1093, 0.1050, 1.6966, -1.3482, 1.1074, 0.7739, -0.3501, -0.7942, -1.4569, -0.4212, -1.5309, 0.7161, -0.5924, 0.0411, 0.0506, 1.1285, -1.4175, 0.9492, 1.4520, 0.6822, 0.2204, -0.7395, 0.6489, 0.1045, 0.2940, 0.6524, 0.6799, 0.2203, 0.8721, -1.5358, 1.2466, 1.7421, 1.1367, 1.2188, -0.4425, 0.3208, -0.2566, 0.3200, 0.5085, 0.2901, 0.7505, 2.5196, -1.3807, 1.0372, 0.6141, 0.2205, 1.5131, -0.2985, -0.1965, -0.9481, -0.0401, 0.7163, 1.2315, 0.6153, 0.7165, -1.4264, 0.7895, -0.5268, -1.3475, -0.3908, -1.0497, -0.1634, -2.1416, 0.0113, 0.6207, -0.1216, -0.5898, 1.0522, -0.5957, 1.2702, 0.6083, 0.2089, 1.8291, 0.4852, -0.4466, -0.7788, 1.9204, 1.8545, 2.7093, -0.2574, 0.6519, 0.5969, -0.0336, -2.1361, 1.1256, -1.9969, 1.5322, 0.8938, -0.2035, 0.2518, -0.9564, -1.4517, 0.3696, -0.3233, 2.3686, -2.0227, -1.3622, 0.9567, -1.0319, 0.5250, -1.9743, 1.9954, 0.3687, -1.8264, -1.3569, 2.5259, 0.3112, 2.1116, -2.3741, -0.4022, 2.6468, -0.5864, 1.3424, -1.7918, 1.0003, -0.7669, -0.9427, -0.9071, 2.0075, 0.8401, 0.8893, -2.0555, -0.9292, 0.6629, -0.4297, 0.1425, -0.9286, 0.8557, -0.2626, 0.8688, -0.0656, -0.0700, 2.0406, -0.6421, 0.1256, 0.8372, 0.9643, 0.6466, 1.2474, 2.1236, -0.2623, -0.9022, -0.0935, 0.5229, -1.0695, -0.6165, -0.4063, 0.2944, -0.6588, 1.4981, 1.4830, -0.2737, 1.7982, -1.1443, -1.3045, -1.2346, -2.1647, -0.6302, -0.3040, -0.5122, 0.2446, 0.2461, 1.3718, 0.6769, -0.1522, 0.5989, -0.8046, -1.0332, -1.9935, -0.6566, -1.4395, -0.5557, -0.0234, 0.6044, 0.3799, 0.1389, 1.2835, 1.4138, 1.2361, 0.9294, 0.5984, 0.1129, 0.9973, 0.1757, 0.1323, -0.1106, 0.7248, 1.6264, 0.3858, 1.7037, 0.7570, -0.2738, -0.8379, -1.1272, 0.0765, 0.2096, -1.3146, 1.0227, 0.5589, 0.0946, 0.6827, -0.1754, 0.9389, -1.4190, -1.1025, 0.1653, -2.0429, 0.2653, -1.8202, -1.3823, 0.1195, 0.5420, 0.0445, -0.0415, 0.8077, -0.3801, 0.5078, 1.0140, -0.4222, 1.1950, 0.2399, 0.0406, 1.8405, -0.5149, 2.0252, -1.9210, -0.1825, 0.2315, -1.0681, -0.8205, -2.0633, 1.2951, 0.5765, -0.8258, 0.1818, 1.9753, -0.3307, 2.2496, -1.9791, 0.4642, 0.2341, -2.2208, 0.0469, -1.3146, 1.6173, 0.3070, -0.4236, -0.5020, 1.6534, -1.3262, 0.4372, -0.9925, -1.2544, -0.7151, -1.4468, -0.1344, -0.7542, 2.0376, -0.4919, 1.4321, -0.7479, -0.7445, 0.5715, -0.9185, 0.8108, -0.3269, -1.7227, -0.6257, -1.2011, -0.7206, -0.5566, -0.6524, 1.0893, -0.0751, -1.7801, -0.6054, -0.7800, 0.0506, -0.4353, -2.1848, -0.7190, -1.4947, 0.1774, -0.4857, 0.3120, 1.1527, 1.0662, -0.5490, -1.1873, -1.0254, 0.2371, 0.1885, 0.0552, 0.0590, -3.0319, -0.5517, 0.6528, 0.6371, 0.3808, 0.4719, -0.9114, -0.3220, -0.4044, 0.7361, 2.0837, -0.5025, 0.5977, -0.1425, 0.9465, 1.4484, 1.6144, 1.4626, 1.5514, -0.2191, 0.9392, -0.3390, 0.3293, 0.0970, -1.5043, -0.4129, -1.0800, -0.1401, 1.4814, 1.6489, 0.0945, 0.7761, -0.2967, 0.3118]  # input2 的另一个样本\n",
    "input2_sample3 = [0.0680, 0.4929, -0.4856, -1.0659, 0.2271, 0.9750, -0.0459, -0.9983, -0.3853, 0.1388, -0.5521, -1.0144, 0.7596, 0.3897, -0.7058, -0.5486, -0.9618, -0.3213, -0.1112, 0.1254, -0.1353, -0.7435, 0.8109, -0.2007, -1.3344, 0.3736, 0.3735, -0.0512, -0.0541, 0.7782, -0.1956, 1.1003, 1.0753, -0.0475, 0.2760, -1.1155, -0.3519, 1.0317, 0.8275, 0.8866, -1.5916, 0.2765, 0.2974, -0.4583, -1.2707, -1.2243, 0.6445, 0.1130, -1.3990, 0.2444, 1.6214, 0.1972, 0.8126, -0.5523, 1.1015, 1.4209, 0.5709, -0.1970, -0.2347, 0.3432, 0.4345, 0.0125, -0.0911, 0.3934, -0.3102, 0.3043, -1.2838, -1.5829, 0.4730, -0.0892, -0.4324, -2.0877, -0.9224, -1.1076, 0.6402, -1.0492, -0.8285, 0.2830, -1.0045, 0.2666, -0.8800, -0.6976, 0.5277, 0.0046, 0.1613, -1.3106, -0.8656, 0.5924, 1.3418, -0.2341, -0.5440, -1.1277, 0.2931, 0.6592, 0.1454, 0.0810, -0.8694, 0.0320, -0.7954, -0.1824, 0.4991, 1.0493, 0.2899, 0.0616, -1.1128, 0.2630, -0.4600, 0.0290, 0.0296, -1.2778, -0.1073, -0.7103, -0.4032, 0.7923, 1.4105, -0.0482, -0.7028, -0.0470, 1.6947, 2.4271, -0.2521, -0.3495, -0.8207, 1.7964, 0.1534, 2.0375, 0.0784, 0.4780, -1.0705, -0.7160, 0.3532, 1.1613, 1.3358, -1.3206, -0.4561, 0.2749, 0.4256, -0.4958, 0.3471, -0.5336, -0.5261, -0.9583, 2.0783, 0.5766, -0.4614, 0.2143, -1.7461, -0.2572, 0.3775, 0.7329, 1.9542, 0.1796, 0.6007, -1.5425, -1.6388, 0.2983, 0.7338, -0.3989, -1.8588, 0.9179, -2.7449, -0.9878, 0.5862, 1.1534, 1.9310, -1.9194, -0.9033, 2.0064, 1.4040, 1.3752, -0.5256, 1.3945, 0.9758, -0.6291, -0.9419, -1.4647, 1.7238, 1.0100, -1.7580, -0.4945, 1.7035, 0.4114, 1.2636, -1.1530, 0.2110, 1.6763, -0.5315, -0.6305, -1.8614, 0.4049, -0.3221, -1.1851, -1.8329, 0.9283, 0.4955, 0.8269, -1.0725, -1.3223, 0.6595, 0.4144, 0.3165, -2.3257, -0.4578, -1.3258, 0.9368, -1.1855, -0.8621, 0.8390, -0.9218, 0.6129, -1.5646, -1.7227, 1.8910, 2.3857, 0.2939, -0.8039, -0.4435, 0.8905, 0.8955, -0.1227, -0.7890, -1.9208, 0.8692, 0.6668, 0.2281, 0.5470, -0.6013, 0.6353, -0.5542, -0.8473, 0.5513, 1.2569, 0.1453, -0.2958, -1.4259, 1.5369, -0.2783, -0.4046, 0.8532, -0.0744, 0.0896, -1.0342, -0.4626, 1.1515, 2.2646, 0.2681, -1.1839, 0.0594, 1.0102, 1.0174, -1.2040, -1.6144, -1.8101, 0.7647, -0.5649, 1.1740, -0.6205, -0.6482, -0.9725, -1.5966, 0.4700, 1.0536, 1.1732, -1.1480, -0.5749, 0.2046, 0.4442, -0.6672, 0.2054, -0.6707, -1.0903, -1.1063, 1.9475, 0.7117, -0.2763, 0.4259, -1.5542, 0.2246, 1.2047, 1.7784, 2.2635, 0.1295, 1.0072, -0.7196, -1.2694, 1.2096, 0.8540, -0.8816, -2.2697, 0.5412, -2.7389, -1.2313, 1.0879, 1.5127, 2.7850, -1.2372, -0.4626, 1.6218, 0.0676, 1.4784, -0.4978, 1.6696, 1.2222, -0.3375, -0.6618, -1.0286, 2.1584, 1.6998, -1.8279, -0.6281, 1.8561, 0.5972, 1.4248, -1.3726, 0.4007, 1.6577, -0.0925, -0.2800, -1.1752, 0.5446, -0.2485, -1.1698, -1.5477, 0.8075, 0.1984, 0.9310, -0.4583, -0.4567, 0.9901, 0.8596, 0.6308, -1.4975, 0.0149, -0.5670, 1.7213, -0.3644, -0.7170, 0.9035, -0.8232, 1.5623, -0.3321, -1.0474, 2.1284, 2.6887, 0.3698, -0.9194, -1.0349, 1.4084, 0.0434, -0.1408, -0.9122, -1.8020, 0.3691, -0.0323, 0.0110, 0.0469, -0.7873, 0.6627, -0.8990, -1.7908, -0.1276, 0.2261, 0.0926, -0.9929, -1.3303, 2.3235, 0.2342, -0.2733, 1.0657, 0.0667, 1.0030, -0.5852, -0.4413, 0.8652, 2.1942, 0.7526, -0.9895, -0.0971, 1.2981, 1.0057, -1.1115, -1.1462, 0.5489, 0.6393, 0.0859, 1.3775, 0.0874, -0.2997, -0.9231, -2.5990, -0.0339, 0.2292, -0.4349, -0.8050, 0.3210, 1.3381, 0.2344, -1.2546, -0.2786, -0.1265, -0.4764, -0.9898, 0.9012, 0.3769, -0.6946, 0.2376, -0.2471, 0.4833, 1.1290, 0.3923, 1.1348, 0.0949, 1.1417, 0.2543, -1.6168, 0.0527, 0.3541, -1.0845, -0.7177, 0.5460, -1.2880, 0.1593, 0.9992, 0.8102, 0.1947, -0.9944, -0.2057, 0.7069, -0.7231, 0.7761, -1.2782, 0.7496, 1.0250, 0.4373, -0.6931, -0.4939, 1.0463, 0.7579, -1.3110, 0.3651, 1.1111, 0.1991, 0.7564, -1.7735, -0.0777, 1.3051, 0.4763, -1.0004, -0.8873, -0.3443, -0.5019, -0.6988, -0.2298, 0.2247, -0.0977, 0.3213, -0.5901, 0.2128, 1.3759, 0.8190, 1.1078, -0.8124, -0.0540, -0.5819, 1.1607, 0.6335, -0.0863, 1.5955, -1.4202, 0.3566, -1.1685, -1.0898, 0.8469, 1.1579, -0.3114, -1.1810, -1.3281, 0.9258, 0.1535, -0.2428, -1.1140, -1.9769, 0.4547, -0.4389, 0.3881, 0.3564, -0.0415, 0.7589, -0.5386, -0.2545, 0.5066, 0.7048, -0.1737, -1.2377, -1.7052, 0.8597, -0.4464, -0.0582, 0.9482, -0.8019, 0.5697, -0.8142, -0.8428, 0.2497, 2.0834, 0.8320, -1.0771]\n",
    "\n",
    "input1_data = np.array([input1_sample1, input1_sample2, input1_sample3], dtype=np.float32)\n",
    "input2_data = np.array([input2_sample1, input2_sample2, input2_sample3], dtype=np.float32)\n",
    "\n",
    "\n",
    "print(input1_data.shape)  \n",
    "print(input2_data.shape)  \n",
    "# here just examples of representative_dataset_generator, add all or part of training data is recommended "
   ]
  },
  {
   "cell_type": "code",
   "execution_count": 25,
   "id": "b96397c1-383a-45ea-bc70-999f29d70068",
   "metadata": {},
   "outputs": [],
   "source": [
    "def representative_dataset_generator():\n",
    "    for i in range(input1_data.shape[0]):  \n",
    "        \n",
    "        yield [input1_data[i:i+1], input2_data[i:i+1]]  \n"
   ]
  },
  {
   "cell_type": "code",
   "execution_count": 26,
   "id": "ec0db7f4-e633-4340-83af-067ab897e3f3",
   "metadata": {},
   "outputs": [],
   "source": [
    "converter = tf.lite.TFLiteConverter.from_keras_model(combined_model)\n",
    "converter.optimizations = [tf.lite.Optimize.DEFAULT]\n",
    "converter.representative_dataset = representative_dataset_generator\n",
    "converter.target_spec.supported_ops = [tf.lite.OpsSet.TFLITE_BUILTINS_INT8]\n",
    "converter.inference_input_type = tf.int8  \n",
    "converter.inference_output_type = tf.int8  "
   ]
  },
  {
   "cell_type": "code",
   "execution_count": 27,
   "id": "ac8af2e2-0a9b-4e19-a6fd-0977fc60784a",
   "metadata": {},
   "outputs": [
    {
     "name": "stdout",
     "output_type": "stream",
     "text": [
      "INFO:tensorflow:Assets written to: C:\\Users\\xiaju\\AppData\\Local\\Temp\\tmpc2eloo6s\\assets\n"
     ]
    },
    {
     "name": "stderr",
     "output_type": "stream",
     "text": [
      "INFO:tensorflow:Assets written to: C:\\Users\\xiaju\\AppData\\Local\\Temp\\tmpc2eloo6s\\assets\n"
     ]
    },
    {
     "name": "stdout",
     "output_type": "stream",
     "text": [
      "Saved artifact at 'C:\\Users\\xiaju\\AppData\\Local\\Temp\\tmpc2eloo6s'. The following endpoints are available:\n",
      "\n",
      "* Endpoint 'serve'\n",
      "  args_0 (POSITIONAL_ONLY): List[TensorSpec(shape=(None, 255), dtype=tf.float32, name='keras_tensor_92'), TensorSpec(shape=(None, 507), dtype=tf.float32, name='keras_tensor_93')]\n",
      "Output Type:\n",
      "  List[TensorSpec(shape=(None, 3), dtype=tf.float32, name=None), TensorSpec(shape=(None, 1), dtype=tf.float32, name=None)]\n",
      "Captures:\n",
      "  1576825200480: TensorSpec(shape=(), dtype=tf.resource, name=None)\n",
      "  1576825332656: TensorSpec(shape=(), dtype=tf.resource, name=None)\n",
      "  1576825451264: TensorSpec(shape=(), dtype=tf.resource, name=None)\n",
      "  1576825451088: TensorSpec(shape=(), dtype=tf.resource, name=None)\n",
      "  1576825652672: TensorSpec(shape=(), dtype=tf.resource, name=None)\n",
      "  1576825652496: TensorSpec(shape=(), dtype=tf.resource, name=None)\n",
      "  1576807899552: TensorSpec(shape=(), dtype=tf.resource, name=None)\n",
      "  1576807899376: TensorSpec(shape=(), dtype=tf.resource, name=None)\n",
      "  1576824698832: TensorSpec(shape=(), dtype=tf.resource, name=None)\n",
      "  1576824698656: TensorSpec(shape=(), dtype=tf.resource, name=None)\n",
      "  1576824903984: TensorSpec(shape=(), dtype=tf.resource, name=None)\n",
      "  1576824903808: TensorSpec(shape=(), dtype=tf.resource, name=None)\n"
     ]
    },
    {
     "name": "stderr",
     "output_type": "stream",
     "text": [
      "D:\\apps\\anaconda\\anaconda\\envs\\812_tf_env\\lib\\site-packages\\tensorflow\\lite\\python\\convert.py:983: UserWarning: Statistics for quantized inputs were expected, but not specified; continuing anyway.\n",
      "  warnings.warn(\n"
     ]
    }
   ],
   "source": [
    "\n",
    "tflite_combined_model = converter.convert()"
   ]
  },
  {
   "cell_type": "code",
   "execution_count": 28,
   "id": "82b5fe41-3e33-41ff-ac80-259190035f6f",
   "metadata": {},
   "outputs": [
    {
     "name": "stdout",
     "output_type": "stream",
     "text": [
      "Combined and quantized model saved as combined_model_int8.tflite\n"
     ]
    }
   ],
   "source": [
    "\n",
    "with open(\"B:/jupyter_notebook/821_/combined_model_int8.tflite\", \"wb\") as f:\n",
    "    f.write(tflite_combined_model)\n",
    "\n",
    "print(\"Combined and quantized model saved as combined_model_int8.tflite\")"
   ]
  },
  {
   "cell_type": "code",
   "execution_count": 29,
   "id": "b3ffd599-6c9e-4107-b4f4-729e42cdf141",
   "metadata": {},
   "outputs": [],
   "source": [
    "\n",
    "tflite_model_path = \"B:/jupyter_notebook/821_/combined_model_int8.tflite\"\n",
    "\n",
    "\n",
    "interpreter = tf.lite.Interpreter(model_path=tflite_model_path)\n",
    "interpreter.allocate_tensors()"
   ]
  },
  {
   "cell_type": "code",
   "execution_count": 30,
   "id": "a5244561-df98-459f-aa6a-474107a72da2",
   "metadata": {},
   "outputs": [
    {
     "name": "stdout",
     "output_type": "stream",
     "text": [
      "Input 1:\n",
      "  Shape: [  1 255]\n",
      "  Scale: 0.02506352961063385\n",
      "  Zero Point: -18\n",
      "\n",
      "Input 2:\n",
      "  Shape: [  1 507]\n",
      "  Scale: 0.024489019066095352\n",
      "  Zero Point: 7\n",
      "\n",
      "Output 1:\n",
      "  Shape: [1 1]\n",
      "  Scale: 0.9167187213897705\n",
      "  Zero Point: 31\n",
      "\n",
      "Output 2:\n",
      "  Shape: [1 3]\n",
      "  Scale: 0.00390625\n",
      "  Zero Point: -128\n",
      "\n"
     ]
    }
   ],
   "source": [
    "\n",
    "input_details = interpreter.get_input_details()\n",
    "output_details = interpreter.get_output_details()\n",
    "\n",
    "\n",
    "for i, input_detail in enumerate(input_details):\n",
    "    print(f\"Input {i + 1}:\")\n",
    "    print(f\"  Shape: {input_detail['shape']}\")\n",
    "    print(f\"  Scale: {input_detail['quantization'][0]}\")\n",
    "    print(f\"  Zero Point: {input_detail['quantization'][1]}\")\n",
    "    print()\n",
    "\n",
    "\n",
    "for i, output_detail in enumerate(output_details):\n",
    "    print(f\"Output {i + 1}:\")\n",
    "    print(f\"  Shape: {output_detail['shape']}\")\n",
    "    print(f\"  Scale: {output_detail['quantization'][0]}\")\n",
    "    print(f\"  Zero Point: {output_detail['quantization'][1]}\")\n",
    "    print()\n"
   ]
  },
  {
   "cell_type": "code",
   "execution_count": null,
   "id": "2c4cc684-0054-4e03-9d7e-241934f5575d",
   "metadata": {},
   "outputs": [],
   "source": []
  }
 ],
 "metadata": {
  "kernelspec": {
   "display_name": "Python 3 (ipykernel)",
   "language": "python",
   "name": "python3"
  },
  "language_info": {
   "codemirror_mode": {
    "name": "ipython",
    "version": 3
   },
   "file_extension": ".py",
   "mimetype": "text/x-python",
   "name": "python",
   "nbconvert_exporter": "python",
   "pygments_lexer": "ipython3",
   "version": "3.9.19"
  }
 },
 "nbformat": 4,
 "nbformat_minor": 5
}
