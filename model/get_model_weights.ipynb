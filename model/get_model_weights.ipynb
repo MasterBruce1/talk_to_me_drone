{
 "cells": [
  {
   "cell_type": "code",
   "execution_count": 1,
   "id": "eeccce23-9b59-4668-a8a2-c5fc816116d0",
   "metadata": {},
   "outputs": [
    {
     "name": "stdout",
     "output_type": "stream",
     "text": [
      "2.17.0\n"
     ]
    }
   ],
   "source": [
    "import tensorflow as tf\n",
    "print(tf.__version__)\n"
   ]
  },
  {
   "cell_type": "code",
   "execution_count": 2,
   "id": "b76c6e99-18f8-4d3c-b964-a2bbad1bbe67",
   "metadata": {},
   "outputs": [],
   "source": [
    "import tensorflow as tf\n",
    "import numpy as np\n",
    "import os"
   ]
  },
  {
   "cell_type": "code",
   "execution_count": 3,
   "id": "eaf68e1c-aa74-41f6-9dc6-92da3e92818a",
   "metadata": {},
   "outputs": [
    {
     "name": "stderr",
     "output_type": "stream",
     "text": [
      "D:\\apps\\anaconda\\anaconda\\envs\\tf_env\\lib\\site-packages\\keras\\src\\layers\\reshaping\\reshape.py:39: UserWarning: Do not pass an `input_shape`/`input_dim` argument to a layer. When using Sequential models, prefer using an `Input(shape)` object as the first layer in the model instead.\n",
      "  super().__init__(**kwargs)\n"
     ]
    },
    {
     "name": "stdout",
     "output_type": "stream",
     "text": [
      "WARNING:tensorflow:From D:\\apps\\anaconda\\anaconda\\envs\\tf_env\\lib\\site-packages\\keras\\src\\backend\\tensorflow\\core.py:192: The name tf.placeholder is deprecated. Please use tf.compat.v1.placeholder instead.\n",
      "\n"
     ]
    },
    {
     "name": "stderr",
     "output_type": "stream",
     "text": [
      "WARNING:absl:Compiled the loaded model, but the compiled metrics have yet to be built. `model.compile_metrics` will be empty until you train or evaluate the model.\n"
     ]
    }
   ],
   "source": [
    "model = tf.keras.models.load_model('B:/jupyter_notebook/ei-localization_regression-regression-keras-h5-model-model/model.h5')"
   ]
  },
  {
   "cell_type": "code",
   "execution_count": 4,
   "id": "8b5eefef-8c24-4d70-9f63-ce7baf437ef4",
   "metadata": {},
   "outputs": [],
   "source": [
    "weights = model.get_weights()\n"
   ]
  },
  {
   "cell_type": "code",
   "execution_count": 5,
   "id": "a4edbe49-044e-452a-960d-a9633ed20c0a",
   "metadata": {},
   "outputs": [],
   "source": [
    "output_dir = 'B:/jupyter_notebook/saved_weights/'\n",
    "if not os.path.exists(output_dir):\n",
    "    os.makedirs(output_dir)"
   ]
  },
  {
   "cell_type": "code",
   "execution_count": 6,
   "id": "236996be-eb99-4e3e-8696-25f9566aac02",
   "metadata": {},
   "outputs": [],
   "source": [
    "for i, weight in enumerate(weights):\n",
    "    weight_file = os.path.join(output_dir, f'layer_{i}_weights.npy')\n",
    "    np.save(weight_file, weight)"
   ]
  },
  {
   "cell_type": "code",
   "execution_count": 7,
   "id": "3491aead-d713-4226-8b09-328459d5e584",
   "metadata": {},
   "outputs": [
    {
     "name": "stdout",
     "output_type": "stream",
     "text": [
      "All weights have been saved to NumPy files.\n"
     ]
    }
   ],
   "source": [
    "print(\"All weights have been saved to NumPy files.\")"
   ]
  },
  {
   "cell_type": "code",
   "execution_count": 8,
   "id": "2d36916f-7e98-44d4-ab7c-c4ccda7693fc",
   "metadata": {},
   "outputs": [
    {
     "name": "stdout",
     "output_type": "stream",
     "text": [
      "Layer 0 weights shape: (3, 13, 8)\n",
      "Layer 1 weights shape: (8,)\n",
      "Layer 2 weights shape: (3, 8, 16)\n",
      "Layer 3 weights shape: (16,)\n",
      "Layer 4 weights shape: (800, 1)\n",
      "Layer 5 weights shape: (1,)\n"
     ]
    }
   ],
   "source": [
    "for i, weight in enumerate(weights):\n",
    "    print(f\"Layer {i} weights shape: {weight.shape}\")"
   ]
  },
  {
   "cell_type": "code",
   "execution_count": 10,
   "id": "943af423-6332-4230-a86e-627a41ad414e",
   "metadata": {},
   "outputs": [
    {
     "name": "stderr",
     "output_type": "stream",
     "text": [
      "WARNING:absl:Compiled the loaded model, but the compiled metrics have yet to be built. `model.compile_metrics` will be empty until you train or evaluate the model.\n"
     ]
    }
   ],
   "source": [
    "model2 = tf.keras.models.load_model('B:/jupyter_notebook/ei-minifly_ac_mfcc-classifier-keras-h5-model-model/model.h5')"
   ]
  },
  {
   "cell_type": "code",
   "execution_count": 11,
   "id": "cec404a8-e312-44fd-8b5b-be532a7e1853",
   "metadata": {},
   "outputs": [],
   "source": [
    "weight2 = model2.get_weights()"
   ]
  },
  {
   "cell_type": "code",
   "execution_count": 12,
   "id": "5c6cc3f2-b62c-4ae1-9856-fa1faf12f64d",
   "metadata": {},
   "outputs": [],
   "source": [
    "output_dir = 'B:/jupyter_notebook/classify_saved_weights/'\n",
    "if not os.path.exists(output_dir):\n",
    "    os.makedirs(output_dir)"
   ]
  },
  {
   "cell_type": "code",
   "execution_count": 13,
   "id": "b5bd17b0-80c8-4864-b8d0-7d8cff228c9b",
   "metadata": {},
   "outputs": [],
   "source": [
    "for i, weight in enumerate(weight2):\n",
    "    weight_file = os.path.join(output_dir, f'layer_{i}_weights2.npy')\n",
    "    np.save(weight_file, weight)"
   ]
  },
  {
   "cell_type": "code",
   "execution_count": 14,
   "id": "1c04ad38-cb8f-4ad9-ba2e-11eae4a93aa6",
   "metadata": {},
   "outputs": [
    {
     "name": "stdout",
     "output_type": "stream",
     "text": [
      "Layer 0 weights shape: (3, 15, 8)\n",
      "Layer 1 weights shape: (8,)\n",
      "Layer 2 weights shape: (3, 8, 16)\n",
      "Layer 3 weights shape: (16,)\n",
      "Layer 4 weights shape: (80, 3)\n",
      "Layer 5 weights shape: (3,)\n"
     ]
    }
   ],
   "source": [
    "for i, weight in enumerate(weight2):\n",
    "    print(f\"Layer {i} weights shape: {weight.shape}\")"
   ]
  },
  {
   "cell_type": "code",
   "execution_count": 3,
   "id": "91f3b674-42d2-4226-a3dc-2bec8a61bfe8",
   "metadata": {},
   "outputs": [
    {
     "name": "stderr",
     "output_type": "stream",
     "text": [
      "D:\\apps\\anaconda\\anaconda\\envs\\812_tf_env\\lib\\site-packages\\keras\\src\\layers\\reshaping\\reshape.py:39: UserWarning: Do not pass an `input_shape`/`input_dim` argument to a layer. When using Sequential models, prefer using an `Input(shape)` object as the first layer in the model instead.\n",
      "  super().__init__(**kwargs)\n"
     ]
    },
    {
     "name": "stdout",
     "output_type": "stream",
     "text": [
      "WARNING:tensorflow:From D:\\apps\\anaconda\\anaconda\\envs\\812_tf_env\\lib\\site-packages\\keras\\src\\backend\\tensorflow\\core.py:192: The name tf.placeholder is deprecated. Please use tf.compat.v1.placeholder instead.\n",
      "\n"
     ]
    },
    {
     "name": "stderr",
     "output_type": "stream",
     "text": [
      "WARNING:absl:Compiled the loaded model, but the compiled metrics have yet to be built. `model.compile_metrics` will be empty until you train or evaluate the model.\n"
     ]
    }
   ],
   "source": [
    "model3 = tf.keras.models.load_model('B:/jupyter_notebook/821_/ei-localization_regression-regression-keras-h5-model-model/model.h5')"
   ]
  },
  {
   "cell_type": "code",
   "execution_count": 4,
   "id": "5152795e-8d7c-4a3c-95cf-1dd1d215778f",
   "metadata": {},
   "outputs": [],
   "source": [
    "weights = model3.get_weights()"
   ]
  },
  {
   "cell_type": "code",
   "execution_count": 5,
   "id": "0321be18-6d1f-48b9-83f6-8c0d7a3edefe",
   "metadata": {},
   "outputs": [],
   "source": [
    "output_dir = 'B:/jupyter_notebook/821_/821_weight'\n",
    "if not os.path.exists(output_dir):\n",
    "    os.makedirs(output_dir)"
   ]
  },
  {
   "cell_type": "code",
   "execution_count": 6,
   "id": "874d2275-9049-4113-80e0-e63bbbaaa279",
   "metadata": {},
   "outputs": [],
   "source": [
    "for i, weight in enumerate(weights):\n",
    "    weight_file = os.path.join(output_dir, f'layer_{i}_weights.npy')\n",
    "    np.save(weight_file, weight)"
   ]
  },
  {
   "cell_type": "code",
   "execution_count": 7,
   "id": "98283590-c5d5-4b86-b5af-be94c803497a",
   "metadata": {},
   "outputs": [
    {
     "name": "stdout",
     "output_type": "stream",
     "text": [
      "All weights have been saved to NumPy files.\n"
     ]
    }
   ],
   "source": [
    "print(\"All weights have been saved to NumPy files.\")"
   ]
  },
  {
   "cell_type": "code",
   "execution_count": 8,
   "id": "60313ff0-fa1e-4832-af72-c4650b52c1be",
   "metadata": {},
   "outputs": [
    {
     "name": "stdout",
     "output_type": "stream",
     "text": [
      "Layer 0 weights shape: (3, 13, 8)\n",
      "Layer 1 weights shape: (8,)\n",
      "Layer 2 weights shape: (3, 8, 16)\n",
      "Layer 3 weights shape: (16,)\n",
      "Layer 4 weights shape: (160, 1)\n",
      "Layer 5 weights shape: (1,)\n"
     ]
    }
   ],
   "source": [
    "for i, weight in enumerate(weights):\n",
    "    print(f\"Layer {i} weights shape: {weight.shape}\")"
   ]
  },
  {
   "cell_type": "code",
   "execution_count": null,
   "id": "08d03828-b5f0-435a-8a2b-edb48ebaaf8a",
   "metadata": {},
   "outputs": [],
   "source": []
  }
 ],
 "metadata": {
  "kernelspec": {
   "display_name": "Python 3 (ipykernel)",
   "language": "python",
   "name": "python3"
  },
  "language_info": {
   "codemirror_mode": {
    "name": "ipython",
    "version": 3
   },
   "file_extension": ".py",
   "mimetype": "text/x-python",
   "name": "python",
   "nbconvert_exporter": "python",
   "pygments_lexer": "ipython3",
   "version": "3.9.19"
  }
 },
 "nbformat": 4,
 "nbformat_minor": 5
}
